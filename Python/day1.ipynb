{
 "cells": [
  {
   "cell_type": "markdown",
   "id": "ac709748",
   "metadata": {},
   "source": [
    "# Control statements"
   ]
  },
  {
   "cell_type": "code",
   "execution_count": 4,
   "id": "ef7920e0",
   "metadata": {},
   "outputs": [
    {
     "name": "stdout",
     "output_type": "stream",
     "text": [
      "Enter your age:10\n"
     ]
    }
   ],
   "source": [
    "age=int(input(\"Enter your age:\"))\n",
    "\n",
    "if age >= 18:\n",
    "    print(\"You can go for voting.\")\n",
    "else:\n",
    "    print(\"You can't vote!\")"
   ]
  },
  {
   "cell_type": "code",
   "execution_count": null,
   "id": "94c61916",
   "metadata": {},
   "outputs": [],
   "source": []
  },
  {
   "cell_type": "code",
   "execution_count": 7,
   "id": "e8a59aa3",
   "metadata": {},
   "outputs": [
    {
     "name": "stdout",
     "output_type": "stream",
     "text": [
      "Enter a number:100\n",
      "It is : 100\n"
     ]
    }
   ],
   "source": [
    "x=int(input(\"Enter a number:\"))\n",
    "\n",
    "if x == 0:\n",
    "    print(\"its ZERO\")\n",
    "elif x == 10:\n",
    "    print(\"TEN\")\n",
    "elif x==20:\n",
    "    print(\"TWENTY\")\n",
    "else:\n",
    "    print(\"It is :\", x)"
   ]
  },
  {
   "cell_type": "code",
   "execution_count": 11,
   "id": "7753e87f",
   "metadata": {},
   "outputs": [
    {
     "name": "stdout",
     "output_type": "stream",
     "text": [
      "Enter your country name: Australia\n",
      "Enter your age:100\n",
      "Please follow Australia standards\n"
     ]
    }
   ],
   "source": [
    "country=input(\"Enter your country name: \")\n",
    "age=int(input(\"Enter your age:\"))\n",
    "\n",
    "if country==\"India\" and age>=18:\n",
    "    print(\"You can vote\")\n",
    "elif country==\"India\" and age <18:\n",
    "    print(\"You cannot vote\")\n",
    "else:\n",
    "    print(f\"Please follow {country} standards\")"
   ]
  },
  {
   "cell_type": "markdown",
   "id": "5582961c",
   "metadata": {},
   "source": [
    "# LOOPS"
   ]
  },
  {
   "cell_type": "markdown",
   "id": "fc150722",
   "metadata": {},
   "source": [
    "# while loop"
   ]
  },
  {
   "cell_type": "code",
   "execution_count": 13,
   "id": "b37bda49",
   "metadata": {},
   "outputs": [
    {
     "name": "stdout",
     "output_type": "stream",
     "text": [
      "0\n",
      "1\n",
      "2\n",
      "3\n",
      "4\n",
      "5\n",
      "6\n",
      "7\n",
      "8\n",
      "9\n",
      "10\n",
      "x value is 11. Hence it came out of the loop!\n"
     ]
    }
   ],
   "source": [
    "x=0\n",
    "\n",
    "while x<=10:\n",
    "    print(x)\n",
    "    x+=1   # x = x+1\n",
    "else:\n",
    "    print(f\"x value is {x}. Hence it came out of the loop!\")"
   ]
  },
  {
   "cell_type": "markdown",
   "id": "31fb9d49",
   "metadata": {},
   "source": [
    "# break and continue"
   ]
  },
  {
   "cell_type": "code",
   "execution_count": 14,
   "id": "6f30c933",
   "metadata": {},
   "outputs": [
    {
     "name": "stdout",
     "output_type": "stream",
     "text": [
      "0\n",
      "1\n",
      "2\n",
      "3\n",
      "4\n",
      "5\n",
      "I am not part of the loop!\n",
      "Thanks!\n"
     ]
    }
   ],
   "source": [
    "x=0\n",
    "\n",
    "while x<=10:\n",
    "    if x > 5:\n",
    "        break\n",
    "    print(x)\n",
    "    x+=1\n",
    "    \n",
    "print(\"I am not part of the loop!\")\n",
    "print(\"Thanks!\")"
   ]
  },
  {
   "cell_type": "code",
   "execution_count": 15,
   "id": "0d4d855d",
   "metadata": {},
   "outputs": [
    {
     "name": "stdout",
     "output_type": "stream",
     "text": [
      "1\n",
      "2\n",
      "3\n",
      "4\n",
      "6\n",
      "7\n",
      "8\n",
      "9\n",
      "10\n",
      "11\n",
      "I am not part of the loop!\n",
      "Thanks!\n"
     ]
    }
   ],
   "source": [
    "x=0\n",
    "\n",
    "while x<=10:\n",
    "    x+=1\n",
    "    if x == 5:\n",
    "        continue\n",
    "    print(x)\n",
    "    \n",
    "    \n",
    "print(\"I am not part of the loop!\")\n",
    "print(\"Thanks!\")"
   ]
  },
  {
   "cell_type": "code",
   "execution_count": 16,
   "id": "4c4fd5d9",
   "metadata": {},
   "outputs": [],
   "source": [
    "# Data Structure\n",
    "# Immutable\n",
    "#     - Numbers\n",
    "#     - Strings\n",
    "#     - Tuple\n",
    "# Mutable\n",
    "#     - List\n",
    "#     - Dictionary\n",
    "#     - Set"
   ]
  },
  {
   "cell_type": "code",
   "execution_count": 17,
   "id": "8f516356",
   "metadata": {},
   "outputs": [],
   "source": [
    "name=\"Raghul Ramesh\""
   ]
  },
  {
   "cell_type": "code",
   "execution_count": 18,
   "id": "dafa4301",
   "metadata": {},
   "outputs": [
    {
     "data": {
      "text/plain": [
       "13"
      ]
     },
     "execution_count": 18,
     "metadata": {},
     "output_type": "execute_result"
    }
   ],
   "source": [
    "len(name)"
   ]
  },
  {
   "cell_type": "code",
   "execution_count": 19,
   "id": "d2e34d52",
   "metadata": {},
   "outputs": [
    {
     "data": {
      "text/plain": [
       "'R'"
      ]
     },
     "execution_count": 19,
     "metadata": {},
     "output_type": "execute_result"
    }
   ],
   "source": [
    "name[0]"
   ]
  },
  {
   "cell_type": "code",
   "execution_count": 20,
   "id": "0415c2af",
   "metadata": {},
   "outputs": [
    {
     "data": {
      "text/plain": [
       "'a'"
      ]
     },
     "execution_count": 20,
     "metadata": {},
     "output_type": "execute_result"
    }
   ],
   "source": [
    "name[1]"
   ]
  },
  {
   "cell_type": "code",
   "execution_count": 21,
   "id": "8c0e7fff",
   "metadata": {},
   "outputs": [
    {
     "data": {
      "text/plain": [
       "'g'"
      ]
     },
     "execution_count": 21,
     "metadata": {},
     "output_type": "execute_result"
    }
   ],
   "source": [
    "name[2]"
   ]
  },
  {
   "cell_type": "code",
   "execution_count": 22,
   "id": "bd7d46d9",
   "metadata": {},
   "outputs": [
    {
     "data": {
      "text/plain": [
       "'l'"
      ]
     },
     "execution_count": 22,
     "metadata": {},
     "output_type": "execute_result"
    }
   ],
   "source": [
    "name[5]"
   ]
  },
  {
   "cell_type": "code",
   "execution_count": 23,
   "id": "9908bf46",
   "metadata": {},
   "outputs": [
    {
     "data": {
      "text/plain": [
       "'Raghu'"
      ]
     },
     "execution_count": 23,
     "metadata": {},
     "output_type": "execute_result"
    }
   ],
   "source": [
    "name[0:5]"
   ]
  },
  {
   "cell_type": "code",
   "execution_count": 24,
   "id": "9dcf842c",
   "metadata": {},
   "outputs": [
    {
     "data": {
      "text/plain": [
       "'Raghul'"
      ]
     },
     "execution_count": 24,
     "metadata": {},
     "output_type": "execute_result"
    }
   ],
   "source": [
    "name[0:6]"
   ]
  },
  {
   "cell_type": "code",
   "execution_count": 25,
   "id": "9a08ecae",
   "metadata": {},
   "outputs": [
    {
     "data": {
      "text/plain": [
       "'Raghul'"
      ]
     },
     "execution_count": 25,
     "metadata": {},
     "output_type": "execute_result"
    }
   ],
   "source": [
    "name[:6]"
   ]
  },
  {
   "cell_type": "code",
   "execution_count": 26,
   "id": "77522a11",
   "metadata": {},
   "outputs": [
    {
     "data": {
      "text/plain": [
       "'Ramesh'"
      ]
     },
     "execution_count": 26,
     "metadata": {},
     "output_type": "execute_result"
    }
   ],
   "source": [
    "name[7:13]"
   ]
  },
  {
   "cell_type": "code",
   "execution_count": 27,
   "id": "3cbe5ee4",
   "metadata": {},
   "outputs": [
    {
     "data": {
      "text/plain": [
       "'Ramesh'"
      ]
     },
     "execution_count": 27,
     "metadata": {},
     "output_type": "execute_result"
    }
   ],
   "source": [
    "name[7:]"
   ]
  },
  {
   "cell_type": "code",
   "execution_count": 28,
   "id": "30176234",
   "metadata": {},
   "outputs": [
    {
     "data": {
      "text/plain": [
       "'Raghul Ramesh'"
      ]
     },
     "execution_count": 28,
     "metadata": {},
     "output_type": "execute_result"
    }
   ],
   "source": [
    "name[:]"
   ]
  },
  {
   "cell_type": "code",
   "execution_count": 30,
   "id": "d94bd21c",
   "metadata": {},
   "outputs": [
    {
     "data": {
      "text/plain": [
       "'Rgu aeh'"
      ]
     },
     "execution_count": 30,
     "metadata": {},
     "output_type": "execute_result"
    }
   ],
   "source": [
    "name[::2]"
   ]
  },
  {
   "cell_type": "code",
   "execution_count": 31,
   "id": "8a9e7948",
   "metadata": {},
   "outputs": [
    {
     "data": {
      "text/plain": [
       "'Rh mh'"
      ]
     },
     "execution_count": 31,
     "metadata": {},
     "output_type": "execute_result"
    }
   ],
   "source": [
    "name[::3]"
   ]
  },
  {
   "cell_type": "code",
   "execution_count": 32,
   "id": "2e68db44",
   "metadata": {},
   "outputs": [
    {
     "data": {
      "text/plain": [
       "'Raghul Ramesh'"
      ]
     },
     "execution_count": 32,
     "metadata": {},
     "output_type": "execute_result"
    }
   ],
   "source": [
    "name"
   ]
  },
  {
   "cell_type": "code",
   "execution_count": 33,
   "id": "7a37ba9d",
   "metadata": {},
   "outputs": [
    {
     "name": "stdout",
     "output_type": "stream",
     "text": [
      "['__add__', '__class__', '__contains__', '__delattr__', '__dir__', '__doc__', '__eq__', '__format__', '__ge__', '__getattribute__', '__getitem__', '__getnewargs__', '__gt__', '__hash__', '__init__', '__init_subclass__', '__iter__', '__le__', '__len__', '__lt__', '__mod__', '__mul__', '__ne__', '__new__', '__reduce__', '__reduce_ex__', '__repr__', '__rmod__', '__rmul__', '__setattr__', '__sizeof__', '__str__', '__subclasshook__', 'capitalize', 'casefold', 'center', 'count', 'encode', 'endswith', 'expandtabs', 'find', 'format', 'format_map', 'index', 'isalnum', 'isalpha', 'isascii', 'isdecimal', 'isdigit', 'isidentifier', 'islower', 'isnumeric', 'isprintable', 'isspace', 'istitle', 'isupper', 'join', 'ljust', 'lower', 'lstrip', 'maketrans', 'partition', 'replace', 'rfind', 'rindex', 'rjust', 'rpartition', 'rsplit', 'rstrip', 'split', 'splitlines', 'startswith', 'strip', 'swapcase', 'title', 'translate', 'upper', 'zfill']\n"
     ]
    }
   ],
   "source": [
    "print(dir(name))"
   ]
  },
  {
   "cell_type": "code",
   "execution_count": 34,
   "id": "1c812ec6",
   "metadata": {},
   "outputs": [
    {
     "data": {
      "text/plain": [
       "'Raghul Ramesh'"
      ]
     },
     "execution_count": 34,
     "metadata": {},
     "output_type": "execute_result"
    }
   ],
   "source": [
    "name"
   ]
  },
  {
   "cell_type": "code",
   "execution_count": 35,
   "id": "2cb116c7",
   "metadata": {},
   "outputs": [
    {
     "data": {
      "text/plain": [
       "'RAGHUL RAMESH'"
      ]
     },
     "execution_count": 35,
     "metadata": {},
     "output_type": "execute_result"
    }
   ],
   "source": [
    "name.upper()"
   ]
  },
  {
   "cell_type": "code",
   "execution_count": 36,
   "id": "e8054743",
   "metadata": {},
   "outputs": [
    {
     "data": {
      "text/plain": [
       "'Raghul Ramesh'"
      ]
     },
     "execution_count": 36,
     "metadata": {},
     "output_type": "execute_result"
    }
   ],
   "source": [
    "name"
   ]
  },
  {
   "cell_type": "code",
   "execution_count": 37,
   "id": "ee1f711b",
   "metadata": {},
   "outputs": [
    {
     "data": {
      "text/plain": [
       "'raghul ramesh'"
      ]
     },
     "execution_count": 37,
     "metadata": {},
     "output_type": "execute_result"
    }
   ],
   "source": [
    "name.lower()"
   ]
  },
  {
   "cell_type": "code",
   "execution_count": 38,
   "id": "5dcf7565",
   "metadata": {},
   "outputs": [
    {
     "data": {
      "text/plain": [
       "'Raghul Ramesh'"
      ]
     },
     "execution_count": 38,
     "metadata": {},
     "output_type": "execute_result"
    }
   ],
   "source": [
    "name"
   ]
  },
  {
   "cell_type": "code",
   "execution_count": 39,
   "id": "c18297e8",
   "metadata": {},
   "outputs": [
    {
     "data": {
      "text/plain": [
       "'rAGHUL rAMESH'"
      ]
     },
     "execution_count": 39,
     "metadata": {},
     "output_type": "execute_result"
    }
   ],
   "source": [
    "name.swapcase()"
   ]
  },
  {
   "cell_type": "code",
   "execution_count": 40,
   "id": "11241f59",
   "metadata": {},
   "outputs": [
    {
     "data": {
      "text/plain": [
       "'raghul ramesh'"
      ]
     },
     "execution_count": 40,
     "metadata": {},
     "output_type": "execute_result"
    }
   ],
   "source": [
    "name.casefold()"
   ]
  },
  {
   "cell_type": "code",
   "execution_count": 41,
   "id": "6e20a05d",
   "metadata": {},
   "outputs": [],
   "source": [
    "name=\"chennai india\""
   ]
  },
  {
   "cell_type": "code",
   "execution_count": 42,
   "id": "9876b3f7",
   "metadata": {},
   "outputs": [
    {
     "data": {
      "text/plain": [
       "'Chennai India'"
      ]
     },
     "execution_count": 42,
     "metadata": {},
     "output_type": "execute_result"
    }
   ],
   "source": [
    "name.title()"
   ]
  },
  {
   "cell_type": "code",
   "execution_count": 43,
   "id": "82a94d69",
   "metadata": {},
   "outputs": [
    {
     "data": {
      "text/plain": [
       "'chennai india'"
      ]
     },
     "execution_count": 43,
     "metadata": {},
     "output_type": "execute_result"
    }
   ],
   "source": [
    "name"
   ]
  },
  {
   "cell_type": "code",
   "execution_count": 44,
   "id": "ed7cbae6",
   "metadata": {},
   "outputs": [
    {
     "data": {
      "text/plain": [
       "'Chennai india'"
      ]
     },
     "execution_count": 44,
     "metadata": {},
     "output_type": "execute_result"
    }
   ],
   "source": [
    "name.capitalize()"
   ]
  },
  {
   "cell_type": "code",
   "execution_count": 45,
   "id": "9e9a1db6",
   "metadata": {},
   "outputs": [
    {
     "data": {
      "text/plain": [
       "True"
      ]
     },
     "execution_count": 45,
     "metadata": {},
     "output_type": "execute_result"
    }
   ],
   "source": [
    "name.islower()"
   ]
  },
  {
   "cell_type": "code",
   "execution_count": 46,
   "id": "88087ab4",
   "metadata": {},
   "outputs": [
    {
     "data": {
      "text/plain": [
       "'chennai india'"
      ]
     },
     "execution_count": 46,
     "metadata": {},
     "output_type": "execute_result"
    }
   ],
   "source": [
    "name"
   ]
  },
  {
   "cell_type": "code",
   "execution_count": 47,
   "id": "067a1ebe",
   "metadata": {},
   "outputs": [
    {
     "data": {
      "text/plain": [
       "False"
      ]
     },
     "execution_count": 47,
     "metadata": {},
     "output_type": "execute_result"
    }
   ],
   "source": [
    "name.isupper()"
   ]
  },
  {
   "cell_type": "code",
   "execution_count": 48,
   "id": "a0e24f34",
   "metadata": {},
   "outputs": [
    {
     "data": {
      "text/plain": [
       "False"
      ]
     },
     "execution_count": 48,
     "metadata": {},
     "output_type": "execute_result"
    }
   ],
   "source": [
    "name.istitle()"
   ]
  },
  {
   "cell_type": "code",
   "execution_count": 50,
   "id": "090cfa9b",
   "metadata": {},
   "outputs": [
    {
     "data": {
      "text/plain": [
       "False"
      ]
     },
     "execution_count": 50,
     "metadata": {},
     "output_type": "execute_result"
    }
   ],
   "source": [
    "name.isspace()"
   ]
  },
  {
   "cell_type": "code",
   "execution_count": 51,
   "id": "17cb61eb",
   "metadata": {},
   "outputs": [],
   "source": [
    "x=\" \""
   ]
  },
  {
   "cell_type": "code",
   "execution_count": 52,
   "id": "dfdbbc0a",
   "metadata": {},
   "outputs": [
    {
     "data": {
      "text/plain": [
       "True"
      ]
     },
     "execution_count": 52,
     "metadata": {},
     "output_type": "execute_result"
    }
   ],
   "source": [
    "x.isspace()"
   ]
  },
  {
   "cell_type": "code",
   "execution_count": 53,
   "id": "790ff1cd",
   "metadata": {},
   "outputs": [
    {
     "data": {
      "text/plain": [
       "False"
      ]
     },
     "execution_count": 53,
     "metadata": {},
     "output_type": "execute_result"
    }
   ],
   "source": [
    "x.isalnum()"
   ]
  },
  {
   "cell_type": "code",
   "execution_count": 54,
   "id": "5cf51dfc",
   "metadata": {},
   "outputs": [],
   "source": [
    "empid=\"sc1408651\""
   ]
  },
  {
   "cell_type": "code",
   "execution_count": 55,
   "id": "2b5c85e0",
   "metadata": {},
   "outputs": [
    {
     "data": {
      "text/plain": [
       "True"
      ]
     },
     "execution_count": 55,
     "metadata": {},
     "output_type": "execute_result"
    }
   ],
   "source": [
    "empid.isalnum()"
   ]
  },
  {
   "cell_type": "code",
   "execution_count": 56,
   "id": "0eb4d712",
   "metadata": {},
   "outputs": [
    {
     "data": {
      "text/plain": [
       "False"
      ]
     },
     "execution_count": 56,
     "metadata": {},
     "output_type": "execute_result"
    }
   ],
   "source": [
    "empid.isdigit()"
   ]
  },
  {
   "cell_type": "code",
   "execution_count": 57,
   "id": "7c880f4a",
   "metadata": {},
   "outputs": [],
   "source": [
    "x=\"10\""
   ]
  },
  {
   "cell_type": "code",
   "execution_count": 58,
   "id": "e887fedd",
   "metadata": {},
   "outputs": [
    {
     "data": {
      "text/plain": [
       "True"
      ]
     },
     "execution_count": 58,
     "metadata": {},
     "output_type": "execute_result"
    }
   ],
   "source": [
    "x.isdigit()"
   ]
  },
  {
   "cell_type": "code",
   "execution_count": 59,
   "id": "f636c887",
   "metadata": {},
   "outputs": [],
   "source": [
    "#center, ljust, rjust"
   ]
  },
  {
   "cell_type": "code",
   "execution_count": 60,
   "id": "e59fe488",
   "metadata": {},
   "outputs": [],
   "source": [
    "city=\"Hyderabad\""
   ]
  },
  {
   "cell_type": "code",
   "execution_count": 61,
   "id": "062aa8f4",
   "metadata": {},
   "outputs": [
    {
     "data": {
      "text/plain": [
       "9"
      ]
     },
     "execution_count": 61,
     "metadata": {},
     "output_type": "execute_result"
    }
   ],
   "source": [
    "len(city)"
   ]
  },
  {
   "cell_type": "code",
   "execution_count": 62,
   "id": "69405c5d",
   "metadata": {},
   "outputs": [
    {
     "data": {
      "text/plain": [
       "'     Hyderabad      '"
      ]
     },
     "execution_count": 62,
     "metadata": {},
     "output_type": "execute_result"
    }
   ],
   "source": [
    "city.center(20)"
   ]
  },
  {
   "cell_type": "code",
   "execution_count": 63,
   "id": "c3087569",
   "metadata": {},
   "outputs": [
    {
     "data": {
      "text/plain": [
       "'_____Hyderabad______'"
      ]
     },
     "execution_count": 63,
     "metadata": {},
     "output_type": "execute_result"
    }
   ],
   "source": [
    "city.center(20,\"_\")"
   ]
  },
  {
   "cell_type": "code",
   "execution_count": 64,
   "id": "1eede77d",
   "metadata": {},
   "outputs": [
    {
     "data": {
      "text/plain": [
       "'*****Hyderabad******'"
      ]
     },
     "execution_count": 64,
     "metadata": {},
     "output_type": "execute_result"
    }
   ],
   "source": [
    "city.center(20,\"*\")"
   ]
  },
  {
   "cell_type": "code",
   "execution_count": 65,
   "id": "fe3262a5",
   "metadata": {},
   "outputs": [
    {
     "data": {
      "text/plain": [
       "'Hyderabad___________'"
      ]
     },
     "execution_count": 65,
     "metadata": {},
     "output_type": "execute_result"
    }
   ],
   "source": [
    "city.ljust(20,\"_\")"
   ]
  },
  {
   "cell_type": "code",
   "execution_count": 66,
   "id": "78beee88",
   "metadata": {},
   "outputs": [
    {
     "data": {
      "text/plain": [
       "'___________Hyderabad'"
      ]
     },
     "execution_count": 66,
     "metadata": {},
     "output_type": "execute_result"
    }
   ],
   "source": [
    "city.rjust(20,\"_\")"
   ]
  },
  {
   "cell_type": "markdown",
   "id": "0b185025",
   "metadata": {},
   "source": [
    "# Strip"
   ]
  },
  {
   "cell_type": "code",
   "execution_count": 67,
   "id": "b859c685",
   "metadata": {},
   "outputs": [],
   "source": [
    "name=\"    Ramesh   \""
   ]
  },
  {
   "cell_type": "code",
   "execution_count": 68,
   "id": "427631e4",
   "metadata": {},
   "outputs": [
    {
     "data": {
      "text/plain": [
       "'Ramesh'"
      ]
     },
     "execution_count": 68,
     "metadata": {},
     "output_type": "execute_result"
    }
   ],
   "source": [
    "name.strip()"
   ]
  },
  {
   "cell_type": "code",
   "execution_count": 69,
   "id": "6bed2aa7",
   "metadata": {},
   "outputs": [
    {
     "data": {
      "text/plain": [
       "'Ramesh   '"
      ]
     },
     "execution_count": 69,
     "metadata": {},
     "output_type": "execute_result"
    }
   ],
   "source": [
    "name.lstrip()"
   ]
  },
  {
   "cell_type": "code",
   "execution_count": 70,
   "id": "050ccf99",
   "metadata": {},
   "outputs": [
    {
     "data": {
      "text/plain": [
       "'    Ramesh'"
      ]
     },
     "execution_count": 70,
     "metadata": {},
     "output_type": "execute_result"
    }
   ],
   "source": [
    "name.rstrip()"
   ]
  },
  {
   "cell_type": "code",
   "execution_count": 71,
   "id": "997c6f34",
   "metadata": {},
   "outputs": [],
   "source": [
    "# repalce and translate"
   ]
  },
  {
   "cell_type": "code",
   "execution_count": 72,
   "id": "44eb2289",
   "metadata": {},
   "outputs": [],
   "source": [
    "city=\"Chennai-Bangalore-Hyderabad-Pune-Delhi\""
   ]
  },
  {
   "cell_type": "code",
   "execution_count": 73,
   "id": "089653b5",
   "metadata": {},
   "outputs": [
    {
     "data": {
      "text/plain": [
       "'Chennai-Bangalore-Hyderabad-Mumbai-Delhi'"
      ]
     },
     "execution_count": 73,
     "metadata": {},
     "output_type": "execute_result"
    }
   ],
   "source": [
    "city.replace(\"Pune\",\"Mumbai\")"
   ]
  },
  {
   "cell_type": "code",
   "execution_count": 103,
   "id": "edb23b99",
   "metadata": {},
   "outputs": [],
   "source": [
    "company=\"A!m><@#a^&^z@>?#o@-_n;*,()\""
   ]
  },
  {
   "cell_type": "code",
   "execution_count": 104,
   "id": "0702ccb1",
   "metadata": {},
   "outputs": [
    {
     "data": {
      "text/plain": [
       "'Am><az>?o-_n;*,()'"
      ]
     },
     "execution_count": 104,
     "metadata": {},
     "output_type": "execute_result"
    }
   ],
   "source": [
    "company.replace(\"!\",\"\").replace(\"@\",\"\").replace(\"#\",\"\").replace(\"^&^\",\"\").replace(\"*()\",\"\")"
   ]
  },
  {
   "cell_type": "code",
   "execution_count": 80,
   "id": "25c62d6e",
   "metadata": {},
   "outputs": [
    {
     "data": {
      "text/plain": [
       "'A!m@#a^&^z@#o@n*()'"
      ]
     },
     "execution_count": 80,
     "metadata": {},
     "output_type": "execute_result"
    }
   ],
   "source": [
    "company.replace(\"!@#^&^*()\",\"\")"
   ]
  },
  {
   "cell_type": "code",
   "execution_count": 81,
   "id": "df40fec3",
   "metadata": {},
   "outputs": [
    {
     "ename": "SyntaxError",
     "evalue": "invalid syntax (3501451019.py, line 1)",
     "output_type": "error",
     "traceback": [
      "\u001b[1;36m  Cell \u001b[1;32mIn [81], line 1\u001b[1;36m\u001b[0m\n\u001b[1;33m    company.translate(\"!\":'',\"@\":'')\u001b[0m\n\u001b[1;37m                         ^\u001b[0m\n\u001b[1;31mSyntaxError\u001b[0m\u001b[1;31m:\u001b[0m invalid syntax\n"
     ]
    }
   ],
   "source": [
    "company.translate(\"!\":'',\"@\":'')"
   ]
  },
  {
   "cell_type": "code",
   "execution_count": 83,
   "id": "7c037554",
   "metadata": {},
   "outputs": [
    {
     "data": {
      "text/plain": [
       "33"
      ]
     },
     "execution_count": 83,
     "metadata": {},
     "output_type": "execute_result"
    }
   ],
   "source": [
    "ord('!')"
   ]
  },
  {
   "cell_type": "code",
   "execution_count": 84,
   "id": "d0acec82",
   "metadata": {},
   "outputs": [
    {
     "data": {
      "text/plain": [
       "64"
      ]
     },
     "execution_count": 84,
     "metadata": {},
     "output_type": "execute_result"
    }
   ],
   "source": [
    "ord('@')"
   ]
  },
  {
   "cell_type": "code",
   "execution_count": 87,
   "id": "faae3ee4",
   "metadata": {},
   "outputs": [
    {
     "data": {
      "text/plain": [
       "35"
      ]
     },
     "execution_count": 87,
     "metadata": {},
     "output_type": "execute_result"
    }
   ],
   "source": [
    "ord(\"#\")"
   ]
  },
  {
   "cell_type": "code",
   "execution_count": 89,
   "id": "1a82312a",
   "metadata": {},
   "outputs": [
    {
     "data": {
      "text/plain": [
       "94"
      ]
     },
     "execution_count": 89,
     "metadata": {},
     "output_type": "execute_result"
    }
   ],
   "source": [
    "ord(\"^\")"
   ]
  },
  {
   "cell_type": "code",
   "execution_count": 90,
   "id": "1f49ca26",
   "metadata": {},
   "outputs": [
    {
     "data": {
      "text/plain": [
       "'Ama&zon*()'"
      ]
     },
     "execution_count": 90,
     "metadata": {},
     "output_type": "execute_result"
    }
   ],
   "source": [
    "company.translate({33:None,64:None,35:None,94:None})"
   ]
  },
  {
   "cell_type": "code",
   "execution_count": 106,
   "id": "f8d7840c",
   "metadata": {},
   "outputs": [],
   "source": [
    "change=company.maketrans(\"!@#^&^*()<>?-_{}:;,./\",\"                     \")"
   ]
  },
  {
   "cell_type": "code",
   "execution_count": 107,
   "id": "1821c29f",
   "metadata": {},
   "outputs": [
    {
     "name": "stdout",
     "output_type": "stream",
     "text": [
      "{33: 32, 64: 32, 35: 32, 94: 32, 38: 32, 42: 32, 40: 32, 41: 32, 60: 32, 62: 32, 63: 32, 45: 32, 95: 32, 123: 32, 125: 32, 58: 32, 59: 32, 44: 32, 46: 32, 47: 32}\n"
     ]
    }
   ],
   "source": [
    "print(change)"
   ]
  },
  {
   "cell_type": "code",
   "execution_count": 108,
   "id": "7753b5b3",
   "metadata": {},
   "outputs": [
    {
     "data": {
      "text/plain": [
       "'Amazon'"
      ]
     },
     "execution_count": 108,
     "metadata": {},
     "output_type": "execute_result"
    }
   ],
   "source": [
    "company.translate({33: None, 64: None, 35: None, 94: None, 38: None, 42: None, 40: None, 41: None, 60: None, 62: None, 63: None, 45: None, 95: None, 123: None, 125: None, 58: None, 59: None, 44: None, 46: None, 47: None}\n",
    ")"
   ]
  },
  {
   "cell_type": "code",
   "execution_count": 109,
   "id": "88de767b",
   "metadata": {},
   "outputs": [],
   "source": [
    "state=\"Kerala\""
   ]
  },
  {
   "cell_type": "code",
   "execution_count": 111,
   "id": "30ac9a98",
   "metadata": {},
   "outputs": [],
   "source": [
    "cng=state.maketrans('aeiou',\"AEIOU\")"
   ]
  },
  {
   "cell_type": "code",
   "execution_count": 112,
   "id": "e64f0f1b",
   "metadata": {},
   "outputs": [
    {
     "data": {
      "text/plain": [
       "'KErAlA'"
      ]
     },
     "execution_count": 112,
     "metadata": {},
     "output_type": "execute_result"
    }
   ],
   "source": [
    "state.translate(cng)"
   ]
  },
  {
   "cell_type": "code",
   "execution_count": 113,
   "id": "d3bb4ed5",
   "metadata": {},
   "outputs": [],
   "source": [
    "#find, index"
   ]
  },
  {
   "cell_type": "code",
   "execution_count": 114,
   "id": "5be5e3fb",
   "metadata": {},
   "outputs": [],
   "source": [
    "city=\"Hyderabad\""
   ]
  },
  {
   "cell_type": "code",
   "execution_count": 115,
   "id": "f36ad1f0",
   "metadata": {},
   "outputs": [
    {
     "data": {
      "text/plain": [
       "0"
      ]
     },
     "execution_count": 115,
     "metadata": {},
     "output_type": "execute_result"
    }
   ],
   "source": [
    "city.index('H')"
   ]
  },
  {
   "cell_type": "code",
   "execution_count": 116,
   "id": "7ced335d",
   "metadata": {},
   "outputs": [
    {
     "data": {
      "text/plain": [
       "1"
      ]
     },
     "execution_count": 116,
     "metadata": {},
     "output_type": "execute_result"
    }
   ],
   "source": [
    "city.index('y')"
   ]
  },
  {
   "cell_type": "code",
   "execution_count": 117,
   "id": "9eb3b2ea",
   "metadata": {},
   "outputs": [
    {
     "data": {
      "text/plain": [
       "6"
      ]
     },
     "execution_count": 117,
     "metadata": {},
     "output_type": "execute_result"
    }
   ],
   "source": [
    "city.index('b')"
   ]
  },
  {
   "cell_type": "code",
   "execution_count": 118,
   "id": "85888345",
   "metadata": {},
   "outputs": [
    {
     "data": {
      "text/plain": [
       "0"
      ]
     },
     "execution_count": 118,
     "metadata": {},
     "output_type": "execute_result"
    }
   ],
   "source": [
    "city.find('H')"
   ]
  },
  {
   "cell_type": "code",
   "execution_count": 119,
   "id": "5c17d276",
   "metadata": {},
   "outputs": [
    {
     "data": {
      "text/plain": [
       "1"
      ]
     },
     "execution_count": 119,
     "metadata": {},
     "output_type": "execute_result"
    }
   ],
   "source": [
    "city.find('y')"
   ]
  },
  {
   "cell_type": "code",
   "execution_count": 120,
   "id": "314eb14f",
   "metadata": {},
   "outputs": [
    {
     "data": {
      "text/plain": [
       "6"
      ]
     },
     "execution_count": 120,
     "metadata": {},
     "output_type": "execute_result"
    }
   ],
   "source": [
    "city.find('b')"
   ]
  },
  {
   "cell_type": "code",
   "execution_count": 121,
   "id": "ded9a7f6",
   "metadata": {},
   "outputs": [
    {
     "data": {
      "text/plain": [
       "'Hyderabad'"
      ]
     },
     "execution_count": 121,
     "metadata": {},
     "output_type": "execute_result"
    }
   ],
   "source": [
    "city"
   ]
  },
  {
   "cell_type": "code",
   "execution_count": 122,
   "id": "7bff9cd6",
   "metadata": {},
   "outputs": [
    {
     "ename": "ValueError",
     "evalue": "substring not found",
     "output_type": "error",
     "traceback": [
      "\u001b[1;31m---------------------------------------------------------------------------\u001b[0m",
      "\u001b[1;31mValueError\u001b[0m                                Traceback (most recent call last)",
      "Cell \u001b[1;32mIn [122], line 1\u001b[0m\n\u001b[1;32m----> 1\u001b[0m \u001b[43mcity\u001b[49m\u001b[38;5;241;43m.\u001b[39;49m\u001b[43mindex\u001b[49m\u001b[43m(\u001b[49m\u001b[38;5;124;43m'\u001b[39;49m\u001b[38;5;124;43mz\u001b[39;49m\u001b[38;5;124;43m'\u001b[39;49m\u001b[43m)\u001b[49m\n",
      "\u001b[1;31mValueError\u001b[0m: substring not found"
     ]
    }
   ],
   "source": [
    "city.index('z')"
   ]
  },
  {
   "cell_type": "code",
   "execution_count": 123,
   "id": "b6e238d4",
   "metadata": {},
   "outputs": [
    {
     "data": {
      "text/plain": [
       "-1"
      ]
     },
     "execution_count": 123,
     "metadata": {},
     "output_type": "execute_result"
    }
   ],
   "source": [
    "city.find('z')"
   ]
  },
  {
   "cell_type": "code",
   "execution_count": 124,
   "id": "1b2a0816",
   "metadata": {},
   "outputs": [],
   "source": [
    "city=\"Chennai-Bangalore-Hyderabad-Pune-Delhi\""
   ]
  },
  {
   "cell_type": "code",
   "execution_count": 126,
   "id": "d82be818",
   "metadata": {},
   "outputs": [],
   "source": [
    "city_list=city.split(\"-\")"
   ]
  },
  {
   "cell_type": "code",
   "execution_count": 127,
   "id": "e1c21b36",
   "metadata": {},
   "outputs": [
    {
     "data": {
      "text/plain": [
       "['Chennai', 'Bangalore', 'Hyderabad', 'Pune', 'Delhi']"
      ]
     },
     "execution_count": 127,
     "metadata": {},
     "output_type": "execute_result"
    }
   ],
   "source": [
    "city_list"
   ]
  },
  {
   "cell_type": "code",
   "execution_count": 128,
   "id": "f1a33b1a",
   "metadata": {},
   "outputs": [
    {
     "data": {
      "text/plain": [
       "'Chennai_Bangalore_Hyderabad_Pune_Delhi'"
      ]
     },
     "execution_count": 128,
     "metadata": {},
     "output_type": "execute_result"
    }
   ],
   "source": [
    "\"_\".join(city_list)"
   ]
  },
  {
   "cell_type": "code",
   "execution_count": null,
   "id": "8e97888e",
   "metadata": {},
   "outputs": [],
   "source": [
    "\"\"\"\n",
    "upper\n",
    "lower\n",
    "swapcase\n",
    "casefold\n",
    "title\n",
    "capitalize\n",
    "isupper\n",
    "islower\n",
    "istitle\n",
    "isspace\n",
    "isalnum\n",
    "isalpha\n",
    "isnumber\n",
    "center\n",
    "ljust\n",
    "rjust\n",
    "split\n",
    "join\n",
    "strip\n",
    "lstrip\n",
    "rstrip\n",
    "replace\n",
    "translate\n",
    "partition\n",
    "zfill\n",
    "\"\"\""
   ]
  },
  {
   "cell_type": "code",
   "execution_count": 130,
   "id": "9d1014a0",
   "metadata": {},
   "outputs": [
    {
     "data": {
      "text/plain": [
       "('Chennai', '-', 'Bangalore-Hyderabad-Pune-Delhi')"
      ]
     },
     "execution_count": 130,
     "metadata": {},
     "output_type": "execute_result"
    }
   ],
   "source": [
    "city.partition(\"-\")"
   ]
  },
  {
   "cell_type": "code",
   "execution_count": 131,
   "id": "b4709a1d",
   "metadata": {},
   "outputs": [
    {
     "data": {
      "text/plain": [
       "'Chennai-Bangalore-Hyderabad-Pune-Delhi'"
      ]
     },
     "execution_count": 131,
     "metadata": {},
     "output_type": "execute_result"
    }
   ],
   "source": [
    "city"
   ]
  },
  {
   "cell_type": "code",
   "execution_count": 132,
   "id": "1e3f1d6d",
   "metadata": {},
   "outputs": [
    {
     "data": {
      "text/plain": [
       "('Chennai-Bangalore-Hyderabad-Pune', '-', 'Delhi')"
      ]
     },
     "execution_count": 132,
     "metadata": {},
     "output_type": "execute_result"
    }
   ],
   "source": [
    "city.rpartition(\"-\")"
   ]
  },
  {
   "cell_type": "code",
   "execution_count": 135,
   "id": "73eecf45",
   "metadata": {},
   "outputs": [],
   "source": [
    "salary=\"10000\""
   ]
  },
  {
   "cell_type": "code",
   "execution_count": 137,
   "id": "f4653ce7",
   "metadata": {},
   "outputs": [
    {
     "data": {
      "text/plain": [
       "'0010000000'"
      ]
     },
     "execution_count": 137,
     "metadata": {},
     "output_type": "execute_result"
    }
   ],
   "source": [
    "salary.center(10,\"0\")"
   ]
  },
  {
   "cell_type": "code",
   "execution_count": 138,
   "id": "6a554253",
   "metadata": {},
   "outputs": [
    {
     "data": {
      "text/plain": [
       "'1000000000'"
      ]
     },
     "execution_count": 138,
     "metadata": {},
     "output_type": "execute_result"
    }
   ],
   "source": [
    "salary.ljust(10,\"0\")"
   ]
  },
  {
   "cell_type": "code",
   "execution_count": 139,
   "id": "1980b2df",
   "metadata": {},
   "outputs": [
    {
     "data": {
      "text/plain": [
       "'0000010000'"
      ]
     },
     "execution_count": 139,
     "metadata": {},
     "output_type": "execute_result"
    }
   ],
   "source": [
    "salary.rjust(10,\"0\")"
   ]
  },
  {
   "cell_type": "code",
   "execution_count": 140,
   "id": "579dec86",
   "metadata": {},
   "outputs": [
    {
     "data": {
      "text/plain": [
       "'0000010000'"
      ]
     },
     "execution_count": 140,
     "metadata": {},
     "output_type": "execute_result"
    }
   ],
   "source": [
    "salary.zfill(10)"
   ]
  },
  {
   "cell_type": "code",
   "execution_count": 141,
   "id": "090be5cc",
   "metadata": {},
   "outputs": [],
   "source": [
    "city=\"Hyderabad\""
   ]
  },
  {
   "cell_type": "code",
   "execution_count": 143,
   "id": "fe5d04ea",
   "metadata": {},
   "outputs": [
    {
     "data": {
      "text/plain": [
       "5"
      ]
     },
     "execution_count": 143,
     "metadata": {},
     "output_type": "execute_result"
    }
   ],
   "source": [
    "city.index('a')"
   ]
  },
  {
   "cell_type": "code",
   "execution_count": 144,
   "id": "722282a0",
   "metadata": {},
   "outputs": [
    {
     "data": {
      "text/plain": [
       "5"
      ]
     },
     "execution_count": 144,
     "metadata": {},
     "output_type": "execute_result"
    }
   ],
   "source": [
    "city.find('a')"
   ]
  },
  {
   "cell_type": "code",
   "execution_count": 145,
   "id": "f421130c",
   "metadata": {},
   "outputs": [
    {
     "data": {
      "text/plain": [
       "7"
      ]
     },
     "execution_count": 145,
     "metadata": {},
     "output_type": "execute_result"
    }
   ],
   "source": [
    "city.rindex('a')"
   ]
  },
  {
   "cell_type": "code",
   "execution_count": 146,
   "id": "3994ca2a",
   "metadata": {},
   "outputs": [
    {
     "data": {
      "text/plain": [
       "7"
      ]
     },
     "execution_count": 146,
     "metadata": {},
     "output_type": "execute_result"
    }
   ],
   "source": [
    "city.rfind('a')"
   ]
  },
  {
   "cell_type": "code",
   "execution_count": 147,
   "id": "cad65c1d",
   "metadata": {},
   "outputs": [
    {
     "data": {
      "text/plain": [
       "'Hyderabad'"
      ]
     },
     "execution_count": 147,
     "metadata": {},
     "output_type": "execute_result"
    }
   ],
   "source": [
    "city"
   ]
  },
  {
   "cell_type": "code",
   "execution_count": 148,
   "id": "f7b56259",
   "metadata": {},
   "outputs": [
    {
     "data": {
      "text/plain": [
       "'Hyderabad'"
      ]
     },
     "execution_count": 148,
     "metadata": {},
     "output_type": "execute_result"
    }
   ],
   "source": [
    "city[:]"
   ]
  },
  {
   "cell_type": "code",
   "execution_count": 150,
   "id": "f95ea318",
   "metadata": {},
   "outputs": [
    {
     "data": {
      "text/plain": [
       "'dabaredyH'"
      ]
     },
     "execution_count": 150,
     "metadata": {},
     "output_type": "execute_result"
    }
   ],
   "source": [
    "city[::-1]"
   ]
  },
  {
   "cell_type": "markdown",
   "id": "056dcb07",
   "metadata": {},
   "source": [
    "# LIST"
   ]
  },
  {
   "cell_type": "code",
   "execution_count": 151,
   "id": "1e0922cf",
   "metadata": {},
   "outputs": [],
   "source": [
    "info=[\"Raghul Ramesh\", 38, 9.5, False, \"Chennai\"]"
   ]
  },
  {
   "cell_type": "code",
   "execution_count": 152,
   "id": "60fdc1f1",
   "metadata": {},
   "outputs": [
    {
     "data": {
      "text/plain": [
       "list"
      ]
     },
     "execution_count": 152,
     "metadata": {},
     "output_type": "execute_result"
    }
   ],
   "source": [
    "type(info)"
   ]
  },
  {
   "cell_type": "code",
   "execution_count": 153,
   "id": "32555e98",
   "metadata": {},
   "outputs": [],
   "source": [
    "nums=[1,4,7,22,77]"
   ]
  },
  {
   "cell_type": "code",
   "execution_count": 154,
   "id": "42eac6fb",
   "metadata": {},
   "outputs": [
    {
     "data": {
      "text/plain": [
       "5"
      ]
     },
     "execution_count": 154,
     "metadata": {},
     "output_type": "execute_result"
    }
   ],
   "source": [
    "len(info)"
   ]
  },
  {
   "cell_type": "code",
   "execution_count": 155,
   "id": "16738d7d",
   "metadata": {},
   "outputs": [
    {
     "data": {
      "text/plain": [
       "5"
      ]
     },
     "execution_count": 155,
     "metadata": {},
     "output_type": "execute_result"
    }
   ],
   "source": [
    "len(nums)"
   ]
  },
  {
   "cell_type": "code",
   "execution_count": 156,
   "id": "0251f142",
   "metadata": {},
   "outputs": [
    {
     "data": {
      "text/plain": [
       "77"
      ]
     },
     "execution_count": 156,
     "metadata": {},
     "output_type": "execute_result"
    }
   ],
   "source": [
    "max(nums)"
   ]
  },
  {
   "cell_type": "code",
   "execution_count": 158,
   "id": "af7a3ed9",
   "metadata": {},
   "outputs": [
    {
     "data": {
      "text/plain": [
       "1"
      ]
     },
     "execution_count": 158,
     "metadata": {},
     "output_type": "execute_result"
    }
   ],
   "source": [
    "min(nums)"
   ]
  },
  {
   "cell_type": "code",
   "execution_count": 159,
   "id": "01fda759",
   "metadata": {},
   "outputs": [
    {
     "data": {
      "text/plain": [
       "111"
      ]
     },
     "execution_count": 159,
     "metadata": {},
     "output_type": "execute_result"
    }
   ],
   "source": [
    "sum(nums)"
   ]
  },
  {
   "cell_type": "code",
   "execution_count": 161,
   "id": "93a8f183",
   "metadata": {},
   "outputs": [
    {
     "data": {
      "text/plain": [
       "22.2"
      ]
     },
     "execution_count": 161,
     "metadata": {},
     "output_type": "execute_result"
    }
   ],
   "source": [
    "sum(nums)/len(nums)"
   ]
  },
  {
   "cell_type": "code",
   "execution_count": 163,
   "id": "229000b7",
   "metadata": {},
   "outputs": [
    {
     "data": {
      "text/plain": [
       "'Raghul Ramesh'"
      ]
     },
     "execution_count": 163,
     "metadata": {},
     "output_type": "execute_result"
    }
   ],
   "source": [
    "info[0]"
   ]
  },
  {
   "cell_type": "code",
   "execution_count": 165,
   "id": "c5749bf3",
   "metadata": {},
   "outputs": [
    {
     "data": {
      "text/plain": [
       "['Raghul Ramesh', 38, 9.5, False, 'Chennai']"
      ]
     },
     "execution_count": 165,
     "metadata": {},
     "output_type": "execute_result"
    }
   ],
   "source": [
    "info"
   ]
  },
  {
   "cell_type": "code",
   "execution_count": 166,
   "id": "627de3a5",
   "metadata": {},
   "outputs": [
    {
     "data": {
      "text/plain": [
       "'Chennai'"
      ]
     },
     "execution_count": 166,
     "metadata": {},
     "output_type": "execute_result"
    }
   ],
   "source": [
    "info[-1]"
   ]
  },
  {
   "cell_type": "code",
   "execution_count": 167,
   "id": "f26eb002",
   "metadata": {},
   "outputs": [
    {
     "data": {
      "text/plain": [
       "False"
      ]
     },
     "execution_count": 167,
     "metadata": {},
     "output_type": "execute_result"
    }
   ],
   "source": [
    "info[-2]"
   ]
  },
  {
   "cell_type": "code",
   "execution_count": 168,
   "id": "82391f43",
   "metadata": {},
   "outputs": [],
   "source": [
    "nums=[1,2,3,4,5]"
   ]
  },
  {
   "cell_type": "code",
   "execution_count": 169,
   "id": "24ecfb57",
   "metadata": {},
   "outputs": [
    {
     "name": "stdout",
     "output_type": "stream",
     "text": [
      "['__add__', '__class__', '__contains__', '__delattr__', '__delitem__', '__dir__', '__doc__', '__eq__', '__format__', '__ge__', '__getattribute__', '__getitem__', '__gt__', '__hash__', '__iadd__', '__imul__', '__init__', '__init_subclass__', '__iter__', '__le__', '__len__', '__lt__', '__mul__', '__ne__', '__new__', '__reduce__', '__reduce_ex__', '__repr__', '__reversed__', '__rmul__', '__setattr__', '__setitem__', '__sizeof__', '__str__', '__subclasshook__', 'append', 'clear', 'copy', 'count', 'extend', 'index', 'insert', 'pop', 'remove', 'reverse', 'sort']\n"
     ]
    }
   ],
   "source": [
    "print(dir(nums))"
   ]
  },
  {
   "cell_type": "code",
   "execution_count": 170,
   "id": "774fb11d",
   "metadata": {},
   "outputs": [
    {
     "data": {
      "text/plain": [
       "[1, 2, 3, 4, 5]"
      ]
     },
     "execution_count": 170,
     "metadata": {},
     "output_type": "execute_result"
    }
   ],
   "source": [
    "nums"
   ]
  },
  {
   "cell_type": "code",
   "execution_count": 171,
   "id": "b8408b51",
   "metadata": {},
   "outputs": [],
   "source": [
    "nums.append(6)"
   ]
  },
  {
   "cell_type": "code",
   "execution_count": 172,
   "id": "1cb13460",
   "metadata": {},
   "outputs": [
    {
     "data": {
      "text/plain": [
       "[1, 2, 3, 4, 5, 6]"
      ]
     },
     "execution_count": 172,
     "metadata": {},
     "output_type": "execute_result"
    }
   ],
   "source": [
    "nums"
   ]
  },
  {
   "cell_type": "code",
   "execution_count": 173,
   "id": "0f650453",
   "metadata": {},
   "outputs": [
    {
     "ename": "TypeError",
     "evalue": "append() takes exactly one argument (3 given)",
     "output_type": "error",
     "traceback": [
      "\u001b[1;31m---------------------------------------------------------------------------\u001b[0m",
      "\u001b[1;31mTypeError\u001b[0m                                 Traceback (most recent call last)",
      "Cell \u001b[1;32mIn [173], line 1\u001b[0m\n\u001b[1;32m----> 1\u001b[0m \u001b[43mnums\u001b[49m\u001b[38;5;241;43m.\u001b[39;49m\u001b[43mappend\u001b[49m\u001b[43m(\u001b[49m\u001b[38;5;241;43m7\u001b[39;49m\u001b[43m,\u001b[49m\u001b[38;5;241;43m8\u001b[39;49m\u001b[43m,\u001b[49m\u001b[38;5;241;43m9\u001b[39;49m\u001b[43m)\u001b[49m\n",
      "\u001b[1;31mTypeError\u001b[0m: append() takes exactly one argument (3 given)"
     ]
    }
   ],
   "source": [
    "nums.append(7,8,9)"
   ]
  },
  {
   "cell_type": "code",
   "execution_count": 175,
   "id": "4de73e2f",
   "metadata": {},
   "outputs": [],
   "source": [
    "nums.append([7,8,9])"
   ]
  },
  {
   "cell_type": "code",
   "execution_count": 176,
   "id": "dfd9dffa",
   "metadata": {},
   "outputs": [
    {
     "data": {
      "text/plain": [
       "[1, 2, 3, 4, 5, 6, [7, 8, 9]]"
      ]
     },
     "execution_count": 176,
     "metadata": {},
     "output_type": "execute_result"
    }
   ],
   "source": [
    "nums"
   ]
  },
  {
   "cell_type": "code",
   "execution_count": 177,
   "id": "fa34ed37",
   "metadata": {},
   "outputs": [
    {
     "data": {
      "text/plain": [
       "[7, 8, 9]"
      ]
     },
     "execution_count": 177,
     "metadata": {},
     "output_type": "execute_result"
    }
   ],
   "source": [
    "nums[-1]"
   ]
  },
  {
   "cell_type": "code",
   "execution_count": 178,
   "id": "34f768a9",
   "metadata": {},
   "outputs": [],
   "source": [
    "nums.extend([10,11,12,13,14,15])"
   ]
  },
  {
   "cell_type": "code",
   "execution_count": 179,
   "id": "9beb78d8",
   "metadata": {},
   "outputs": [
    {
     "data": {
      "text/plain": [
       "[1, 2, 3, 4, 5, 6, [7, 8, 9], 10, 11, 12, 13, 14, 15]"
      ]
     },
     "execution_count": 179,
     "metadata": {},
     "output_type": "execute_result"
    }
   ],
   "source": [
    "nums"
   ]
  },
  {
   "cell_type": "code",
   "execution_count": 180,
   "id": "e1844fea",
   "metadata": {},
   "outputs": [
    {
     "data": {
      "text/plain": [
       "15"
      ]
     },
     "execution_count": 180,
     "metadata": {},
     "output_type": "execute_result"
    }
   ],
   "source": [
    "nums[-1]"
   ]
  },
  {
   "cell_type": "code",
   "execution_count": 182,
   "id": "80dca8ea",
   "metadata": {},
   "outputs": [
    {
     "data": {
      "text/plain": [
       "14"
      ]
     },
     "execution_count": 182,
     "metadata": {},
     "output_type": "execute_result"
    }
   ],
   "source": [
    "nums[-2]"
   ]
  },
  {
   "cell_type": "code",
   "execution_count": 183,
   "id": "34bd8231",
   "metadata": {},
   "outputs": [
    {
     "data": {
      "text/plain": [
       "13"
      ]
     },
     "execution_count": 183,
     "metadata": {},
     "output_type": "execute_result"
    }
   ],
   "source": [
    "nums[-3]"
   ]
  },
  {
   "cell_type": "code",
   "execution_count": 184,
   "id": "93a85c60",
   "metadata": {},
   "outputs": [],
   "source": [
    "#nums.insert(where do you want to insert, what do you want to insert)\n",
    "nums.insert(5,5.5)"
   ]
  },
  {
   "cell_type": "code",
   "execution_count": 185,
   "id": "8fa0e5e4",
   "metadata": {},
   "outputs": [
    {
     "data": {
      "text/plain": [
       "[1, 2, 3, 4, 5, 5.5, 6, [7, 8, 9], 10, 11, 12, 13, 14, 15]"
      ]
     },
     "execution_count": 185,
     "metadata": {},
     "output_type": "execute_result"
    }
   ],
   "source": [
    "nums"
   ]
  },
  {
   "cell_type": "code",
   "execution_count": 186,
   "id": "79a9081f",
   "metadata": {},
   "outputs": [],
   "source": [
    "nums.insert(0,100)"
   ]
  },
  {
   "cell_type": "code",
   "execution_count": 187,
   "id": "4a484450",
   "metadata": {},
   "outputs": [
    {
     "data": {
      "text/plain": [
       "[100, 1, 2, 3, 4, 5, 5.5, 6, [7, 8, 9], 10, 11, 12, 13, 14, 15]"
      ]
     },
     "execution_count": 187,
     "metadata": {},
     "output_type": "execute_result"
    }
   ],
   "source": [
    "nums"
   ]
  },
  {
   "cell_type": "code",
   "execution_count": 189,
   "id": "ea30fe98",
   "metadata": {},
   "outputs": [],
   "source": [
    "nums[8].insert(2,8.5)"
   ]
  },
  {
   "cell_type": "code",
   "execution_count": 190,
   "id": "f473e52c",
   "metadata": {},
   "outputs": [
    {
     "data": {
      "text/plain": [
       "[100, 1, 2, 3, 4, 5, 5.5, 6, [7, 8, 8.5, 9], 10, 11, 12, 13, 14, 15]"
      ]
     },
     "execution_count": 190,
     "metadata": {},
     "output_type": "execute_result"
    }
   ],
   "source": [
    "nums"
   ]
  },
  {
   "cell_type": "code",
   "execution_count": 191,
   "id": "5a75cc17",
   "metadata": {},
   "outputs": [],
   "source": [
    "nums.remove(5.5)"
   ]
  },
  {
   "cell_type": "code",
   "execution_count": 192,
   "id": "2fc2661e",
   "metadata": {},
   "outputs": [
    {
     "data": {
      "text/plain": [
       "[100, 1, 2, 3, 4, 5, 6, [7, 8, 8.5, 9], 10, 11, 12, 13, 14, 15]"
      ]
     },
     "execution_count": 192,
     "metadata": {},
     "output_type": "execute_result"
    }
   ],
   "source": [
    "nums"
   ]
  },
  {
   "cell_type": "code",
   "execution_count": 193,
   "id": "a43176fc",
   "metadata": {},
   "outputs": [],
   "source": [
    "nums.remove(14)"
   ]
  },
  {
   "cell_type": "code",
   "execution_count": 194,
   "id": "09461b08",
   "metadata": {},
   "outputs": [
    {
     "data": {
      "text/plain": [
       "[100, 1, 2, 3, 4, 5, 6, [7, 8, 8.5, 9], 10, 11, 12, 13, 15]"
      ]
     },
     "execution_count": 194,
     "metadata": {},
     "output_type": "execute_result"
    }
   ],
   "source": [
    "nums"
   ]
  },
  {
   "cell_type": "code",
   "execution_count": 195,
   "id": "30fabe14",
   "metadata": {},
   "outputs": [],
   "source": [
    "nums.remove(100)"
   ]
  },
  {
   "cell_type": "code",
   "execution_count": 196,
   "id": "ce8ab234",
   "metadata": {},
   "outputs": [
    {
     "data": {
      "text/plain": [
       "[1, 2, 3, 4, 5, 6, [7, 8, 8.5, 9], 10, 11, 12, 13, 15]"
      ]
     },
     "execution_count": 196,
     "metadata": {},
     "output_type": "execute_result"
    }
   ],
   "source": [
    "nums"
   ]
  },
  {
   "cell_type": "code",
   "execution_count": 197,
   "id": "4883c445",
   "metadata": {
    "collapsed": true
   },
   "outputs": [
    {
     "ename": "ValueError",
     "evalue": "list.remove(x): x not in list",
     "output_type": "error",
     "traceback": [
      "\u001b[1;31m---------------------------------------------------------------------------\u001b[0m",
      "\u001b[1;31mValueError\u001b[0m                                Traceback (most recent call last)",
      "Cell \u001b[1;32mIn [197], line 1\u001b[0m\n\u001b[1;32m----> 1\u001b[0m \u001b[43mnums\u001b[49m\u001b[38;5;241;43m.\u001b[39;49m\u001b[43mremove\u001b[49m\u001b[43m(\u001b[49m\u001b[38;5;241;43m1000\u001b[39;49m\u001b[43m)\u001b[49m\n",
      "\u001b[1;31mValueError\u001b[0m: list.remove(x): x not in list"
     ]
    }
   ],
   "source": [
    "nums.remove(1000)"
   ]
  },
  {
   "cell_type": "code",
   "execution_count": 198,
   "id": "5a8d42c3",
   "metadata": {},
   "outputs": [
    {
     "data": {
      "text/plain": [
       "4"
      ]
     },
     "execution_count": 198,
     "metadata": {},
     "output_type": "execute_result"
    }
   ],
   "source": [
    "nums.pop(3)"
   ]
  },
  {
   "cell_type": "code",
   "execution_count": 199,
   "id": "8b8753b1",
   "metadata": {},
   "outputs": [
    {
     "data": {
      "text/plain": [
       "[1, 2, 3, 5, 6, [7, 8, 8.5, 9], 10, 11, 12, 13, 15]"
      ]
     },
     "execution_count": 199,
     "metadata": {},
     "output_type": "execute_result"
    }
   ],
   "source": [
    "nums"
   ]
  },
  {
   "cell_type": "code",
   "execution_count": 200,
   "id": "9d8fa87f",
   "metadata": {},
   "outputs": [
    {
     "data": {
      "text/plain": [
       "[7, 8, 8.5, 9]"
      ]
     },
     "execution_count": 200,
     "metadata": {},
     "output_type": "execute_result"
    }
   ],
   "source": [
    "nums.pop(5)"
   ]
  },
  {
   "cell_type": "code",
   "execution_count": 201,
   "id": "1e04cd13",
   "metadata": {},
   "outputs": [
    {
     "data": {
      "text/plain": [
       "[1, 2, 3, 5, 6, 10, 11, 12, 13, 15]"
      ]
     },
     "execution_count": 201,
     "metadata": {},
     "output_type": "execute_result"
    }
   ],
   "source": [
    "nums"
   ]
  },
  {
   "cell_type": "code",
   "execution_count": 202,
   "id": "be4ba9a9",
   "metadata": {},
   "outputs": [],
   "source": [
    "nums.extend([10,11,11,13,12,11,14])"
   ]
  },
  {
   "cell_type": "code",
   "execution_count": 203,
   "id": "81ee85f2",
   "metadata": {},
   "outputs": [
    {
     "data": {
      "text/plain": [
       "[1, 2, 3, 5, 6, 10, 11, 12, 13, 15, 10, 11, 11, 13, 12, 11, 14]"
      ]
     },
     "execution_count": 203,
     "metadata": {},
     "output_type": "execute_result"
    }
   ],
   "source": [
    "nums"
   ]
  },
  {
   "cell_type": "code",
   "execution_count": 204,
   "id": "0d690743",
   "metadata": {},
   "outputs": [
    {
     "data": {
      "text/plain": [
       "4"
      ]
     },
     "execution_count": 204,
     "metadata": {},
     "output_type": "execute_result"
    }
   ],
   "source": [
    "nums.count(11)"
   ]
  },
  {
   "cell_type": "code",
   "execution_count": 205,
   "id": "64eeda4c",
   "metadata": {},
   "outputs": [
    {
     "data": {
      "text/plain": [
       "2"
      ]
     },
     "execution_count": 205,
     "metadata": {},
     "output_type": "execute_result"
    }
   ],
   "source": [
    "nums.count(12)"
   ]
  },
  {
   "cell_type": "code",
   "execution_count": 206,
   "id": "2cd0d762",
   "metadata": {},
   "outputs": [
    {
     "data": {
      "text/plain": [
       "1"
      ]
     },
     "execution_count": 206,
     "metadata": {},
     "output_type": "execute_result"
    }
   ],
   "source": [
    "nums.count(5)"
   ]
  },
  {
   "cell_type": "code",
   "execution_count": 207,
   "id": "296630a5",
   "metadata": {},
   "outputs": [
    {
     "data": {
      "text/plain": [
       "[1, 2, 3, 5, 6, 10, 11, 12, 13, 15, 10, 11, 11, 13, 12, 11, 14]"
      ]
     },
     "execution_count": 207,
     "metadata": {},
     "output_type": "execute_result"
    }
   ],
   "source": [
    "nums"
   ]
  },
  {
   "cell_type": "code",
   "execution_count": 208,
   "id": "f0f981f4",
   "metadata": {},
   "outputs": [],
   "source": [
    "nums.sort()"
   ]
  },
  {
   "cell_type": "code",
   "execution_count": 209,
   "id": "3de5605d",
   "metadata": {},
   "outputs": [
    {
     "data": {
      "text/plain": [
       "[1, 2, 3, 5, 6, 10, 10, 11, 11, 11, 11, 12, 12, 13, 13, 14, 15]"
      ]
     },
     "execution_count": 209,
     "metadata": {},
     "output_type": "execute_result"
    }
   ],
   "source": [
    "nums"
   ]
  },
  {
   "cell_type": "code",
   "execution_count": 210,
   "id": "c076f6c7",
   "metadata": {},
   "outputs": [],
   "source": [
    "nums.sort(reverse=True)"
   ]
  },
  {
   "cell_type": "code",
   "execution_count": 211,
   "id": "c2e7706f",
   "metadata": {},
   "outputs": [
    {
     "data": {
      "text/plain": [
       "[15, 14, 13, 13, 12, 12, 11, 11, 11, 11, 10, 10, 6, 5, 3, 2, 1]"
      ]
     },
     "execution_count": 211,
     "metadata": {},
     "output_type": "execute_result"
    }
   ],
   "source": [
    "nums"
   ]
  },
  {
   "cell_type": "code",
   "execution_count": 212,
   "id": "f7543ef0",
   "metadata": {},
   "outputs": [],
   "source": [
    "marks=[90,100,85,66]"
   ]
  },
  {
   "cell_type": "code",
   "execution_count": 213,
   "id": "d43d871b",
   "metadata": {},
   "outputs": [
    {
     "data": {
      "text/plain": [
       "[90, 100, 85, 66]"
      ]
     },
     "execution_count": 213,
     "metadata": {},
     "output_type": "execute_result"
    }
   ],
   "source": [
    "marks"
   ]
  },
  {
   "cell_type": "code",
   "execution_count": 214,
   "id": "83f12991",
   "metadata": {},
   "outputs": [],
   "source": [
    "marks.reverse()"
   ]
  },
  {
   "cell_type": "code",
   "execution_count": 215,
   "id": "cda72d32",
   "metadata": {},
   "outputs": [
    {
     "data": {
      "text/plain": [
       "[66, 85, 100, 90]"
      ]
     },
     "execution_count": 215,
     "metadata": {},
     "output_type": "execute_result"
    }
   ],
   "source": [
    "marks"
   ]
  },
  {
   "cell_type": "code",
   "execution_count": 216,
   "id": "b2849f69",
   "metadata": {},
   "outputs": [
    {
     "name": "stdout",
     "output_type": "stream",
     "text": [
      "['__add__', '__class__', '__contains__', '__delattr__', '__delitem__', '__dir__', '__doc__', '__eq__', '__format__', '__ge__', '__getattribute__', '__getitem__', '__gt__', '__hash__', '__iadd__', '__imul__', '__init__', '__init_subclass__', '__iter__', '__le__', '__len__', '__lt__', '__mul__', '__ne__', '__new__', '__reduce__', '__reduce_ex__', '__repr__', '__reversed__', '__rmul__', '__setattr__', '__setitem__', '__sizeof__', '__str__', '__subclasshook__', 'append', 'clear', 'copy', 'count', 'extend', 'index', 'insert', 'pop', 'remove', 'reverse', 'sort']\n"
     ]
    }
   ],
   "source": [
    "print(dir(marks))"
   ]
  },
  {
   "cell_type": "code",
   "execution_count": 218,
   "id": "6fc0b753",
   "metadata": {},
   "outputs": [
    {
     "data": {
      "text/plain": [
       "2"
      ]
     },
     "execution_count": 218,
     "metadata": {},
     "output_type": "execute_result"
    }
   ],
   "source": [
    "nums.index(13)"
   ]
  },
  {
   "cell_type": "code",
   "execution_count": 220,
   "id": "1aeb0606",
   "metadata": {},
   "outputs": [],
   "source": [
    "nums.clear()"
   ]
  },
  {
   "cell_type": "code",
   "execution_count": 221,
   "id": "06047cef",
   "metadata": {},
   "outputs": [
    {
     "data": {
      "text/plain": [
       "[]"
      ]
     },
     "execution_count": 221,
     "metadata": {},
     "output_type": "execute_result"
    }
   ],
   "source": [
    "nums"
   ]
  },
  {
   "cell_type": "code",
   "execution_count": 222,
   "id": "fa425695",
   "metadata": {},
   "outputs": [],
   "source": [
    "# Shallow Copy and Deep Copy"
   ]
  },
  {
   "cell_type": "code",
   "execution_count": 223,
   "id": "fd233b50",
   "metadata": {},
   "outputs": [],
   "source": [
    "nums=[1,2,3,4,5]"
   ]
  },
  {
   "cell_type": "code",
   "execution_count": 224,
   "id": "e698afed",
   "metadata": {},
   "outputs": [],
   "source": [
    "nums_bk=nums"
   ]
  },
  {
   "cell_type": "code",
   "execution_count": 225,
   "id": "f85ed66b",
   "metadata": {},
   "outputs": [
    {
     "data": {
      "text/plain": [
       "[1, 2, 3, 4, 5]"
      ]
     },
     "execution_count": 225,
     "metadata": {},
     "output_type": "execute_result"
    }
   ],
   "source": [
    "nums"
   ]
  },
  {
   "cell_type": "code",
   "execution_count": 226,
   "id": "d2a8deae",
   "metadata": {},
   "outputs": [
    {
     "data": {
      "text/plain": [
       "[1, 2, 3, 4, 5]"
      ]
     },
     "execution_count": 226,
     "metadata": {},
     "output_type": "execute_result"
    }
   ],
   "source": [
    "nums_bk"
   ]
  },
  {
   "cell_type": "code",
   "execution_count": 227,
   "id": "0f1c6a65",
   "metadata": {},
   "outputs": [],
   "source": [
    "nums.append(6)"
   ]
  },
  {
   "cell_type": "code",
   "execution_count": 228,
   "id": "7e777f33",
   "metadata": {},
   "outputs": [
    {
     "data": {
      "text/plain": [
       "[1, 2, 3, 4, 5, 6]"
      ]
     },
     "execution_count": 228,
     "metadata": {},
     "output_type": "execute_result"
    }
   ],
   "source": [
    "nums"
   ]
  },
  {
   "cell_type": "code",
   "execution_count": 229,
   "id": "3754c5e0",
   "metadata": {},
   "outputs": [
    {
     "data": {
      "text/plain": [
       "[1, 2, 3, 4, 5, 6]"
      ]
     },
     "execution_count": 229,
     "metadata": {},
     "output_type": "execute_result"
    }
   ],
   "source": [
    "nums_bk"
   ]
  },
  {
   "cell_type": "code",
   "execution_count": 230,
   "id": "864d270f",
   "metadata": {},
   "outputs": [],
   "source": [
    "nums_bk.remove(4)"
   ]
  },
  {
   "cell_type": "code",
   "execution_count": 231,
   "id": "ae3761b9",
   "metadata": {},
   "outputs": [
    {
     "data": {
      "text/plain": [
       "[1, 2, 3, 5, 6]"
      ]
     },
     "execution_count": 231,
     "metadata": {},
     "output_type": "execute_result"
    }
   ],
   "source": [
    "nums_bk"
   ]
  },
  {
   "cell_type": "code",
   "execution_count": 232,
   "id": "8f28e39a",
   "metadata": {},
   "outputs": [
    {
     "data": {
      "text/plain": [
       "[1, 2, 3, 5, 6]"
      ]
     },
     "execution_count": 232,
     "metadata": {},
     "output_type": "execute_result"
    }
   ],
   "source": [
    "nums"
   ]
  },
  {
   "cell_type": "code",
   "execution_count": 233,
   "id": "cc256f2d",
   "metadata": {},
   "outputs": [
    {
     "data": {
      "text/plain": [
       "2661068798784"
      ]
     },
     "execution_count": 233,
     "metadata": {},
     "output_type": "execute_result"
    }
   ],
   "source": [
    "id(nums)"
   ]
  },
  {
   "cell_type": "code",
   "execution_count": 234,
   "id": "8d402b5f",
   "metadata": {},
   "outputs": [
    {
     "data": {
      "text/plain": [
       "2661068798784"
      ]
     },
     "execution_count": 234,
     "metadata": {},
     "output_type": "execute_result"
    }
   ],
   "source": [
    "id(nums_bk)"
   ]
  },
  {
   "cell_type": "code",
   "execution_count": 236,
   "id": "b486f79c",
   "metadata": {},
   "outputs": [],
   "source": [
    "number=[1,2,3,[4,5],6]"
   ]
  },
  {
   "cell_type": "code",
   "execution_count": 237,
   "id": "e14fb6c5",
   "metadata": {},
   "outputs": [],
   "source": [
    "number_bk=number"
   ]
  },
  {
   "cell_type": "code",
   "execution_count": 238,
   "id": "cd20ef8e",
   "metadata": {},
   "outputs": [
    {
     "data": {
      "text/plain": [
       "[1, 2, 3, [4, 5], 6]"
      ]
     },
     "execution_count": 238,
     "metadata": {},
     "output_type": "execute_result"
    }
   ],
   "source": [
    "number"
   ]
  },
  {
   "cell_type": "code",
   "execution_count": 239,
   "id": "c91e7cf1",
   "metadata": {},
   "outputs": [
    {
     "data": {
      "text/plain": [
       "[1, 2, 3, [4, 5], 6]"
      ]
     },
     "execution_count": 239,
     "metadata": {},
     "output_type": "execute_result"
    }
   ],
   "source": [
    "number_bk"
   ]
  },
  {
   "cell_type": "code",
   "execution_count": 240,
   "id": "57e967ea",
   "metadata": {},
   "outputs": [],
   "source": [
    "number.append(7)"
   ]
  },
  {
   "cell_type": "code",
   "execution_count": 242,
   "id": "a032c939",
   "metadata": {},
   "outputs": [
    {
     "data": {
      "text/plain": [
       "[1, 2, 3, [4, 5], 6, 7]"
      ]
     },
     "execution_count": 242,
     "metadata": {},
     "output_type": "execute_result"
    }
   ],
   "source": [
    "number"
   ]
  },
  {
   "cell_type": "code",
   "execution_count": 243,
   "id": "da92cbd3",
   "metadata": {},
   "outputs": [
    {
     "data": {
      "text/plain": [
       "[1, 2, 3, [4, 5], 6, 7]"
      ]
     },
     "execution_count": 243,
     "metadata": {},
     "output_type": "execute_result"
    }
   ],
   "source": [
    "number_bk"
   ]
  },
  {
   "cell_type": "code",
   "execution_count": 245,
   "id": "bc59fc78",
   "metadata": {},
   "outputs": [],
   "source": [
    "number[3].insert(1,4.5)"
   ]
  },
  {
   "cell_type": "code",
   "execution_count": 246,
   "id": "f51ef4be",
   "metadata": {},
   "outputs": [
    {
     "data": {
      "text/plain": [
       "[1, 2, 3, [4, 4.5, 5], 6, 7]"
      ]
     },
     "execution_count": 246,
     "metadata": {},
     "output_type": "execute_result"
    }
   ],
   "source": [
    "number"
   ]
  },
  {
   "cell_type": "code",
   "execution_count": 247,
   "id": "015f4e78",
   "metadata": {},
   "outputs": [
    {
     "data": {
      "text/plain": [
       "[1, 2, 3, [4, 4.5, 5], 6, 7]"
      ]
     },
     "execution_count": 247,
     "metadata": {},
     "output_type": "execute_result"
    }
   ],
   "source": [
    "number_bk"
   ]
  },
  {
   "cell_type": "code",
   "execution_count": 248,
   "id": "7af7b7c6",
   "metadata": {},
   "outputs": [],
   "source": [
    "# shallow copy"
   ]
  },
  {
   "cell_type": "code",
   "execution_count": 277,
   "id": "b9ced578",
   "metadata": {},
   "outputs": [],
   "source": [
    "import copy"
   ]
  },
  {
   "cell_type": "code",
   "execution_count": 278,
   "id": "1fa4c8d3",
   "metadata": {},
   "outputs": [],
   "source": [
    "number=[1,2,3,[4,5],6]"
   ]
  },
  {
   "cell_type": "code",
   "execution_count": 279,
   "id": "60c1168c",
   "metadata": {},
   "outputs": [],
   "source": [
    "s_number=copy.copy(number)"
   ]
  },
  {
   "cell_type": "code",
   "execution_count": 280,
   "id": "66ed459e",
   "metadata": {},
   "outputs": [
    {
     "data": {
      "text/plain": [
       "2661068333568"
      ]
     },
     "execution_count": 280,
     "metadata": {},
     "output_type": "execute_result"
    }
   ],
   "source": [
    "id(number)"
   ]
  },
  {
   "cell_type": "code",
   "execution_count": 281,
   "id": "927d0bc4",
   "metadata": {},
   "outputs": [
    {
     "data": {
      "text/plain": [
       "2661068462016"
      ]
     },
     "execution_count": 281,
     "metadata": {},
     "output_type": "execute_result"
    }
   ],
   "source": [
    "id(s_number)"
   ]
  },
  {
   "cell_type": "code",
   "execution_count": 253,
   "id": "db3ff049",
   "metadata": {},
   "outputs": [
    {
     "data": {
      "text/plain": [
       "[1, 2, 3, [4, 5], 6]"
      ]
     },
     "execution_count": 253,
     "metadata": {},
     "output_type": "execute_result"
    }
   ],
   "source": [
    "number"
   ]
  },
  {
   "cell_type": "code",
   "execution_count": 254,
   "id": "304444e2",
   "metadata": {},
   "outputs": [
    {
     "data": {
      "text/plain": [
       "[1, 2, 3, [4, 5], 6]"
      ]
     },
     "execution_count": 254,
     "metadata": {},
     "output_type": "execute_result"
    }
   ],
   "source": [
    "s_number"
   ]
  },
  {
   "cell_type": "code",
   "execution_count": 255,
   "id": "7585708e",
   "metadata": {},
   "outputs": [],
   "source": [
    "number.append(7)"
   ]
  },
  {
   "cell_type": "code",
   "execution_count": 256,
   "id": "925354a8",
   "metadata": {},
   "outputs": [
    {
     "data": {
      "text/plain": [
       "[1, 2, 3, [4, 5], 6, 7]"
      ]
     },
     "execution_count": 256,
     "metadata": {},
     "output_type": "execute_result"
    }
   ],
   "source": [
    "number"
   ]
  },
  {
   "cell_type": "code",
   "execution_count": 257,
   "id": "e41ddd24",
   "metadata": {},
   "outputs": [
    {
     "data": {
      "text/plain": [
       "[1, 2, 3, [4, 5], 6]"
      ]
     },
     "execution_count": 257,
     "metadata": {},
     "output_type": "execute_result"
    }
   ],
   "source": [
    "s_number"
   ]
  },
  {
   "cell_type": "code",
   "execution_count": 258,
   "id": "104a2d6b",
   "metadata": {},
   "outputs": [],
   "source": [
    "s_number.remove(3)"
   ]
  },
  {
   "cell_type": "code",
   "execution_count": 259,
   "id": "820b9137",
   "metadata": {},
   "outputs": [
    {
     "data": {
      "text/plain": [
       "[1, 2, [4, 5], 6]"
      ]
     },
     "execution_count": 259,
     "metadata": {},
     "output_type": "execute_result"
    }
   ],
   "source": [
    "s_number"
   ]
  },
  {
   "cell_type": "code",
   "execution_count": 260,
   "id": "22141782",
   "metadata": {},
   "outputs": [
    {
     "data": {
      "text/plain": [
       "[1, 2, 3, [4, 5], 6, 7]"
      ]
     },
     "execution_count": 260,
     "metadata": {},
     "output_type": "execute_result"
    }
   ],
   "source": [
    "number"
   ]
  },
  {
   "cell_type": "code",
   "execution_count": 263,
   "id": "b15075e6",
   "metadata": {},
   "outputs": [],
   "source": [
    "number[3].append(6)"
   ]
  },
  {
   "cell_type": "code",
   "execution_count": 264,
   "id": "9997e02d",
   "metadata": {},
   "outputs": [
    {
     "data": {
      "text/plain": [
       "[1, 2, 3, [4, 5, 6], 6, 7]"
      ]
     },
     "execution_count": 264,
     "metadata": {},
     "output_type": "execute_result"
    }
   ],
   "source": [
    "number"
   ]
  },
  {
   "cell_type": "code",
   "execution_count": 265,
   "id": "d44ec4b3",
   "metadata": {},
   "outputs": [
    {
     "data": {
      "text/plain": [
       "[1, 2, [4, 5, 6], 6]"
      ]
     },
     "execution_count": 265,
     "metadata": {},
     "output_type": "execute_result"
    }
   ],
   "source": [
    "s_number"
   ]
  },
  {
   "cell_type": "code",
   "execution_count": 266,
   "id": "78bd67a3",
   "metadata": {},
   "outputs": [],
   "source": [
    "number=[1,2,3,[4,5],6]"
   ]
  },
  {
   "cell_type": "code",
   "execution_count": 267,
   "id": "d26dce5a",
   "metadata": {},
   "outputs": [
    {
     "data": {
      "text/plain": [
       "[1, 2, 3, [4, 5], 6]"
      ]
     },
     "execution_count": 267,
     "metadata": {},
     "output_type": "execute_result"
    }
   ],
   "source": [
    "number"
   ]
  },
  {
   "cell_type": "code",
   "execution_count": 268,
   "id": "318089ea",
   "metadata": {},
   "outputs": [],
   "source": [
    "d_number=copy.deepcopy(number)"
   ]
  },
  {
   "cell_type": "code",
   "execution_count": 269,
   "id": "55a2d2bc",
   "metadata": {},
   "outputs": [
    {
     "data": {
      "text/plain": [
       "[1, 2, 3, [4, 5], 6]"
      ]
     },
     "execution_count": 269,
     "metadata": {},
     "output_type": "execute_result"
    }
   ],
   "source": [
    "number"
   ]
  },
  {
   "cell_type": "code",
   "execution_count": 270,
   "id": "b491639e",
   "metadata": {},
   "outputs": [
    {
     "data": {
      "text/plain": [
       "[1, 2, 3, [4, 5], 6]"
      ]
     },
     "execution_count": 270,
     "metadata": {},
     "output_type": "execute_result"
    }
   ],
   "source": [
    "d_number"
   ]
  },
  {
   "cell_type": "code",
   "execution_count": 271,
   "id": "3af0ac14",
   "metadata": {},
   "outputs": [],
   "source": [
    "number.append(7)"
   ]
  },
  {
   "cell_type": "code",
   "execution_count": 272,
   "id": "74494558",
   "metadata": {},
   "outputs": [
    {
     "data": {
      "text/plain": [
       "[1, 2, 3, [4, 5], 6, 7]"
      ]
     },
     "execution_count": 272,
     "metadata": {},
     "output_type": "execute_result"
    }
   ],
   "source": [
    "number"
   ]
  },
  {
   "cell_type": "code",
   "execution_count": 273,
   "id": "8d8aabf7",
   "metadata": {},
   "outputs": [
    {
     "data": {
      "text/plain": [
       "[1, 2, 3, [4, 5], 6]"
      ]
     },
     "execution_count": 273,
     "metadata": {},
     "output_type": "execute_result"
    }
   ],
   "source": [
    "d_number"
   ]
  },
  {
   "cell_type": "code",
   "execution_count": 274,
   "id": "5d111ffc",
   "metadata": {},
   "outputs": [],
   "source": [
    "number[3].insert(1,4.5)"
   ]
  },
  {
   "cell_type": "code",
   "execution_count": 275,
   "id": "2ff3d87f",
   "metadata": {},
   "outputs": [
    {
     "data": {
      "text/plain": [
       "[1, 2, 3, [4, 4.5, 5], 6, 7]"
      ]
     },
     "execution_count": 275,
     "metadata": {},
     "output_type": "execute_result"
    }
   ],
   "source": [
    "number"
   ]
  },
  {
   "cell_type": "code",
   "execution_count": 276,
   "id": "38ec77b6",
   "metadata": {},
   "outputs": [
    {
     "data": {
      "text/plain": [
       "[1, 2, 3, [4, 5], 6]"
      ]
     },
     "execution_count": 276,
     "metadata": {},
     "output_type": "execute_result"
    }
   ],
   "source": [
    "d_number"
   ]
  },
  {
   "cell_type": "code",
   "execution_count": 282,
   "id": "11a850ce",
   "metadata": {},
   "outputs": [
    {
     "data": {
      "text/plain": [
       "'\\nappend\\nextend\\ninsert\\npop\\nremove\\ncount\\nindex\\nsort\\nreverse\\ncopy\\n    shallow copy\\n    deep copy\\nclear\\n\\n'"
      ]
     },
     "execution_count": 282,
     "metadata": {},
     "output_type": "execute_result"
    }
   ],
   "source": [
    "\"\"\"\n",
    "append\n",
    "extend\n",
    "insert\n",
    "pop\n",
    "remove\n",
    "count\n",
    "index\n",
    "sort\n",
    "reverse\n",
    "copy\n",
    "    shallow copy\n",
    "    deep copy\n",
    "clear\n",
    "\n",
    "\"\"\""
   ]
  },
  {
   "cell_type": "code",
   "execution_count": 284,
   "id": "0e03b570",
   "metadata": {},
   "outputs": [],
   "source": [
    "x=[10]"
   ]
  },
  {
   "cell_type": "code",
   "execution_count": 285,
   "id": "704b484d",
   "metadata": {},
   "outputs": [
    {
     "data": {
      "text/plain": [
       "list"
      ]
     },
     "execution_count": 285,
     "metadata": {},
     "output_type": "execute_result"
    }
   ],
   "source": [
    "type(x)"
   ]
  },
  {
   "cell_type": "markdown",
   "id": "85fa3494",
   "metadata": {},
   "source": [
    "# TUPLE"
   ]
  },
  {
   "cell_type": "code",
   "execution_count": 286,
   "id": "58fad7df",
   "metadata": {},
   "outputs": [],
   "source": [
    "weekday=(\"Sunday\",\"Monday\",\"Tuesday\",\"Wednesday\",\"Thursday\",\"Friday\",\"Saturday\")"
   ]
  },
  {
   "cell_type": "code",
   "execution_count": 287,
   "id": "dde42fd0",
   "metadata": {},
   "outputs": [
    {
     "data": {
      "text/plain": [
       "tuple"
      ]
     },
     "execution_count": 287,
     "metadata": {},
     "output_type": "execute_result"
    }
   ],
   "source": [
    "type(weekday)"
   ]
  },
  {
   "cell_type": "code",
   "execution_count": 288,
   "id": "86dc8705",
   "metadata": {},
   "outputs": [
    {
     "name": "stdout",
     "output_type": "stream",
     "text": [
      "['__add__', '__class__', '__contains__', '__delattr__', '__dir__', '__doc__', '__eq__', '__format__', '__ge__', '__getattribute__', '__getitem__', '__getnewargs__', '__gt__', '__hash__', '__init__', '__init_subclass__', '__iter__', '__le__', '__len__', '__lt__', '__mul__', '__ne__', '__new__', '__reduce__', '__reduce_ex__', '__repr__', '__rmul__', '__setattr__', '__sizeof__', '__str__', '__subclasshook__', 'count', 'index']\n"
     ]
    }
   ],
   "source": [
    "print(dir(weekday))"
   ]
  },
  {
   "cell_type": "code",
   "execution_count": 289,
   "id": "fd3447dd",
   "metadata": {},
   "outputs": [
    {
     "data": {
      "text/plain": [
       "1"
      ]
     },
     "execution_count": 289,
     "metadata": {},
     "output_type": "execute_result"
    }
   ],
   "source": [
    "weekday.count(\"Friday\")"
   ]
  },
  {
   "cell_type": "code",
   "execution_count": 290,
   "id": "e8e7fa82",
   "metadata": {},
   "outputs": [
    {
     "data": {
      "text/plain": [
       "3"
      ]
     },
     "execution_count": 290,
     "metadata": {},
     "output_type": "execute_result"
    }
   ],
   "source": [
    "weekday.index(\"Wednesday\")"
   ]
  },
  {
   "cell_type": "code",
   "execution_count": 291,
   "id": "8f6af262",
   "metadata": {},
   "outputs": [],
   "source": [
    "#LIST vs TUPLE"
   ]
  },
  {
   "cell_type": "code",
   "execution_count": null,
   "id": "30a8ef13",
   "metadata": {},
   "outputs": [],
   "source": [
    "List is mutable            Tuple is immutable\n",
    "List takes more memory     Tuple takes less memory\n",
    "List is slower in process  Tuple is faster\n",
    "[]                         ()(paranthesis)\n"
   ]
  },
  {
   "cell_type": "code",
   "execution_count": 292,
   "id": "84d0ac9d",
   "metadata": {},
   "outputs": [
    {
     "name": "stdout",
     "output_type": "stream",
     "text": [
      "SIZE OF THE LIST IS  : 136\n",
      "SIZE OF THE TUPLE IS : 120\n"
     ]
    }
   ],
   "source": [
    "lst=[1,2,3,4,5,6,7,8,9,10]\n",
    "tpl=(1,2,3,4,5,6,7,8,9,10)\n",
    "\n",
    "import sys\n",
    "\n",
    "print(\"SIZE OF THE LIST IS  :\", sys.getsizeof(lst))\n",
    "print(\"SIZE OF THE TUPLE IS :\", sys.getsizeof(tpl))"
   ]
  },
  {
   "cell_type": "code",
   "execution_count": 294,
   "id": "683ff802",
   "metadata": {},
   "outputs": [
    {
     "name": "stdout",
     "output_type": "stream",
     "text": [
      "LIST TAKES :  76.92280000082974\n",
      "TUPLE TAKES :  6.991300000663614\n"
     ]
    }
   ],
   "source": [
    "import timeit\n",
    "\n",
    "print(\"LIST TAKES : \",timeit.timeit(stmt=\"[1,2,3,4,5,6,7,8,9,10]\", number=1000000) * 1000 )\n",
    "print(\"TUPLE TAKES : \",timeit.timeit(stmt=\"(1,2,3,4,5,6,7,8,9,10)\", number=1000000) * 1000 )"
   ]
  },
  {
   "cell_type": "code",
   "execution_count": 296,
   "id": "685ad03f",
   "metadata": {},
   "outputs": [],
   "source": [
    "x=(10)"
   ]
  },
  {
   "cell_type": "code",
   "execution_count": 297,
   "id": "a14556fe",
   "metadata": {},
   "outputs": [
    {
     "data": {
      "text/plain": [
       "int"
      ]
     },
     "execution_count": 297,
     "metadata": {},
     "output_type": "execute_result"
    }
   ],
   "source": [
    "type(x)"
   ]
  },
  {
   "cell_type": "code",
   "execution_count": 298,
   "id": "a913d50c",
   "metadata": {},
   "outputs": [],
   "source": [
    "x=(10,)"
   ]
  },
  {
   "cell_type": "code",
   "execution_count": 299,
   "id": "403547c2",
   "metadata": {},
   "outputs": [
    {
     "data": {
      "text/plain": [
       "tuple"
      ]
     },
     "execution_count": 299,
     "metadata": {},
     "output_type": "execute_result"
    }
   ],
   "source": [
    "type(x)"
   ]
  },
  {
   "cell_type": "markdown",
   "id": "46aa91b5",
   "metadata": {},
   "source": [
    "# FOR LOOP"
   ]
  },
  {
   "cell_type": "code",
   "execution_count": 301,
   "id": "5044528d",
   "metadata": {},
   "outputs": [],
   "source": [
    "techs=['Python','Scala','Spark','Sqoop','Hive','Pig','Hbase','Kafka','Phenix','Airflow']"
   ]
  },
  {
   "cell_type": "code",
   "execution_count": 303,
   "id": "88bf0d2b",
   "metadata": {},
   "outputs": [
    {
     "name": "stdout",
     "output_type": "stream",
     "text": [
      "PYTHON\n",
      "SCALA\n",
      "SPARK\n",
      "SQOOP\n",
      "HIVE\n",
      "PIG\n",
      "HBASE\n",
      "KAFKA\n",
      "PHENIX\n",
      "AIRFLOW\n"
     ]
    }
   ],
   "source": [
    "for x in techs:\n",
    "    print(x.upper())"
   ]
  },
  {
   "cell_type": "code",
   "execution_count": 295,
   "id": "48e99124",
   "metadata": {},
   "outputs": [],
   "source": [
    "# LIST COMPREHENSION"
   ]
  },
  {
   "cell_type": "code",
   "execution_count": 300,
   "id": "d264b222",
   "metadata": {
    "collapsed": true
   },
   "outputs": [
    {
     "ename": "SyntaxError",
     "evalue": "invalid syntax (361491474.py, line 1)",
     "output_type": "error",
     "traceback": [
      "\u001b[1;36m  Cell \u001b[1;32mIn [300], line 1\u001b[1;36m\u001b[0m\n\u001b[1;33m    Syntax:\u001b[0m\n\u001b[1;37m           ^\u001b[0m\n\u001b[1;31mSyntaxError\u001b[0m\u001b[1;31m:\u001b[0m invalid syntax\n"
     ]
    }
   ],
   "source": [
    "Syntax:\n",
    "    [expr for x in collections/sequence]\n",
    "    [expr for x in collections/sequence if cond]\n",
    "    [expr for x in collections/sequence if cond and/or cond2]\n",
    "    [expr for x in collections/sequence for y in c2/s2]"
   ]
  },
  {
   "cell_type": "code",
   "execution_count": 304,
   "id": "9a84c4fb",
   "metadata": {},
   "outputs": [
    {
     "data": {
      "text/plain": [
       "[1, 4, 9, 16, 25, 36, 49, 64, 81, 100]"
      ]
     },
     "execution_count": 304,
     "metadata": {},
     "output_type": "execute_result"
    }
   ],
   "source": [
    "nums=range(1,11)\n",
    "[ x**2 for x in nums]"
   ]
  },
  {
   "cell_type": "code",
   "execution_count": 306,
   "id": "93c21914",
   "metadata": {},
   "outputs": [
    {
     "name": "stdout",
     "output_type": "stream",
     "text": [
      "[1, 2, 3, 4, 5, 6, 7, 8, 9, 10]\n"
     ]
    }
   ],
   "source": [
    "print(list(nums))"
   ]
  },
  {
   "cell_type": "code",
   "execution_count": 308,
   "id": "9473abd7",
   "metadata": {},
   "outputs": [
    {
     "data": {
      "text/plain": [
       "[1, 3, 5, 7, 9]"
      ]
     },
     "execution_count": 308,
     "metadata": {},
     "output_type": "execute_result"
    }
   ],
   "source": [
    "[x for x in nums if x%2==1]"
   ]
  },
  {
   "cell_type": "code",
   "execution_count": 309,
   "id": "c46b0eac",
   "metadata": {},
   "outputs": [
    {
     "data": {
      "text/plain": [
       "[2, 4, 6, 8, 10]"
      ]
     },
     "execution_count": 309,
     "metadata": {},
     "output_type": "execute_result"
    }
   ],
   "source": [
    "[x for x in nums if x%2==0]"
   ]
  },
  {
   "cell_type": "code",
   "execution_count": 310,
   "id": "fe060b9a",
   "metadata": {},
   "outputs": [
    {
     "data": {
      "text/plain": [
       "[6, 8, 10]"
      ]
     },
     "execution_count": 310,
     "metadata": {},
     "output_type": "execute_result"
    }
   ],
   "source": [
    "[x for x in nums if x%2==0 and x>5]"
   ]
  },
  {
   "cell_type": "code",
   "execution_count": 311,
   "id": "115286b3",
   "metadata": {},
   "outputs": [],
   "source": [
    "l1=[1,2,3,4,5]\n",
    "l2=[6,7,8,9,10]"
   ]
  },
  {
   "cell_type": "code",
   "execution_count": 312,
   "id": "a2e4e0b4",
   "metadata": {},
   "outputs": [
    {
     "data": {
      "text/plain": [
       "[(1, 6),\n",
       " (1, 7),\n",
       " (1, 8),\n",
       " (1, 9),\n",
       " (1, 10),\n",
       " (2, 6),\n",
       " (2, 7),\n",
       " (2, 8),\n",
       " (2, 9),\n",
       " (2, 10),\n",
       " (3, 6),\n",
       " (3, 7),\n",
       " (3, 8),\n",
       " (3, 9),\n",
       " (3, 10),\n",
       " (4, 6),\n",
       " (4, 7),\n",
       " (4, 8),\n",
       " (4, 9),\n",
       " (4, 10),\n",
       " (5, 6),\n",
       " (5, 7),\n",
       " (5, 8),\n",
       " (5, 9),\n",
       " (5, 10)]"
      ]
     },
     "execution_count": 312,
     "metadata": {},
     "output_type": "execute_result"
    }
   ],
   "source": [
    "[(x,y) for x in l1 for y in l2]"
   ]
  },
  {
   "cell_type": "code",
   "execution_count": 313,
   "id": "388eee70",
   "metadata": {},
   "outputs": [
    {
     "data": {
      "text/plain": [
       "[7,\n",
       " 8,\n",
       " 9,\n",
       " 10,\n",
       " 11,\n",
       " 8,\n",
       " 9,\n",
       " 10,\n",
       " 11,\n",
       " 12,\n",
       " 9,\n",
       " 10,\n",
       " 11,\n",
       " 12,\n",
       " 13,\n",
       " 10,\n",
       " 11,\n",
       " 12,\n",
       " 13,\n",
       " 14,\n",
       " 11,\n",
       " 12,\n",
       " 13,\n",
       " 14,\n",
       " 15]"
      ]
     },
     "execution_count": 313,
     "metadata": {},
     "output_type": "execute_result"
    }
   ],
   "source": [
    "[x+y for x in l1 for y in l2]"
   ]
  },
  {
   "cell_type": "code",
   "execution_count": 314,
   "id": "b07d0e8b",
   "metadata": {},
   "outputs": [
    {
     "data": {
      "text/plain": [
       "[7, 9, 11, 13, 15]"
      ]
     },
     "execution_count": 314,
     "metadata": {},
     "output_type": "execute_result"
    }
   ],
   "source": [
    "[x+y for x,y in zip(l1,l2)]"
   ]
  },
  {
   "cell_type": "code",
   "execution_count": 317,
   "id": "4aa0119a",
   "metadata": {},
   "outputs": [
    {
     "data": {
      "text/plain": [
       "['for raidus 5, area is : 78.5',\n",
       " 'for raidus 2, area is : 12.56',\n",
       " 'for raidus 6.5, area is : 132.665',\n",
       " 'for raidus 10, area is : 314.0',\n",
       " 'for raidus 6, area is : 113.04',\n",
       " 'for raidus 11, area is : 379.94']"
      ]
     },
     "execution_count": 317,
     "metadata": {},
     "output_type": "execute_result"
    }
   ],
   "source": [
    "#Lest calculate the circle's area for multiple radius values\n",
    "radius=[5,2,6.5,10,6,11]\n",
    "\n",
    "[ f'for raidus {r}, area is : {3.14*r**2}' for r in radius]"
   ]
  },
  {
   "cell_type": "code",
   "execution_count": 318,
   "id": "7ac589ad",
   "metadata": {},
   "outputs": [],
   "source": [
    "# Dictionary"
   ]
  },
  {
   "cell_type": "code",
   "execution_count": 319,
   "id": "c803c6ed",
   "metadata": {},
   "outputs": [
    {
     "data": {
      "text/plain": [
       "{}"
      ]
     },
     "execution_count": 319,
     "metadata": {},
     "output_type": "execute_result"
    }
   ],
   "source": [
    "[]\n",
    "()\n",
    "{}"
   ]
  },
  {
   "cell_type": "code",
   "execution_count": 320,
   "id": "d3771f7e",
   "metadata": {},
   "outputs": [],
   "source": [
    "data={}"
   ]
  },
  {
   "cell_type": "code",
   "execution_count": 321,
   "id": "ed392ec4",
   "metadata": {},
   "outputs": [
    {
     "data": {
      "text/plain": [
       "dict"
      ]
     },
     "execution_count": 321,
     "metadata": {},
     "output_type": "execute_result"
    }
   ],
   "source": [
    "type(data)"
   ]
  },
  {
   "cell_type": "code",
   "execution_count": 322,
   "id": "20da89f9",
   "metadata": {},
   "outputs": [],
   "source": [
    "data1=dict()"
   ]
  },
  {
   "cell_type": "code",
   "execution_count": 323,
   "id": "3559f645",
   "metadata": {},
   "outputs": [
    {
     "data": {
      "text/plain": [
       "dict"
      ]
     },
     "execution_count": 323,
     "metadata": {},
     "output_type": "execute_result"
    }
   ],
   "source": [
    "type(data1)"
   ]
  },
  {
   "cell_type": "code",
   "execution_count": 324,
   "id": "79c85aed",
   "metadata": {},
   "outputs": [],
   "source": [
    "info={\n",
    "    'server':'fvws1256.fms.com',\n",
    "    'port':'5051',\n",
    "    'userid':'appuser',\n",
    "    'database':'cdrdw'\n",
    "}"
   ]
  },
  {
   "cell_type": "code",
   "execution_count": 325,
   "id": "4d68f54b",
   "metadata": {},
   "outputs": [
    {
     "data": {
      "text/plain": [
       "dict"
      ]
     },
     "execution_count": 325,
     "metadata": {},
     "output_type": "execute_result"
    }
   ],
   "source": [
    "type(info)"
   ]
  },
  {
   "cell_type": "code",
   "execution_count": 328,
   "id": "3b9bd54e",
   "metadata": {},
   "outputs": [],
   "source": [
    "info={'name':'Raghul Ramesh','city':'chennai','tech':['Python','SQL','Hadoop','Spark','AIML'],'age':38}"
   ]
  },
  {
   "cell_type": "code",
   "execution_count": 330,
   "id": "3d8c6d28",
   "metadata": {},
   "outputs": [
    {
     "name": "stdout",
     "output_type": "stream",
     "text": [
      "['__class__', '__contains__', '__delattr__', '__delitem__', '__dir__', '__doc__', '__eq__', '__format__', '__ge__', '__getattribute__', '__getitem__', '__gt__', '__hash__', '__init__', '__init_subclass__', '__iter__', '__le__', '__len__', '__lt__', '__ne__', '__new__', '__reduce__', '__reduce_ex__', '__repr__', '__reversed__', '__setattr__', '__setitem__', '__sizeof__', '__str__', '__subclasshook__', 'clear', 'copy', 'fromkeys', 'get', 'items', 'keys', 'pop', 'popitem', 'setdefault', 'update', 'values']\n"
     ]
    }
   ],
   "source": [
    "print(dir(info))"
   ]
  },
  {
   "cell_type": "code",
   "execution_count": 331,
   "id": "a92569a1",
   "metadata": {},
   "outputs": [
    {
     "data": {
      "text/plain": [
       "'chennai'"
      ]
     },
     "execution_count": 331,
     "metadata": {},
     "output_type": "execute_result"
    }
   ],
   "source": [
    "info['city']"
   ]
  },
  {
   "cell_type": "code",
   "execution_count": 332,
   "id": "4a74b80d",
   "metadata": {},
   "outputs": [
    {
     "data": {
      "text/plain": [
       "['Python', 'SQL', 'Hadoop', 'Spark', 'AIML']"
      ]
     },
     "execution_count": 332,
     "metadata": {},
     "output_type": "execute_result"
    }
   ],
   "source": [
    "info['tech']"
   ]
  },
  {
   "cell_type": "code",
   "execution_count": 333,
   "id": "cb693348",
   "metadata": {},
   "outputs": [
    {
     "data": {
      "text/plain": [
       "'Raghul Ramesh'"
      ]
     },
     "execution_count": 333,
     "metadata": {},
     "output_type": "execute_result"
    }
   ],
   "source": [
    "info['name']"
   ]
  },
  {
   "cell_type": "code",
   "execution_count": 334,
   "id": "99142556",
   "metadata": {},
   "outputs": [
    {
     "ename": "KeyError",
     "evalue": "'salary'",
     "output_type": "error",
     "traceback": [
      "\u001b[1;31m---------------------------------------------------------------------------\u001b[0m",
      "\u001b[1;31mKeyError\u001b[0m                                  Traceback (most recent call last)",
      "Cell \u001b[1;32mIn [334], line 1\u001b[0m\n\u001b[1;32m----> 1\u001b[0m \u001b[43minfo\u001b[49m\u001b[43m[\u001b[49m\u001b[38;5;124;43m'\u001b[39;49m\u001b[38;5;124;43msalary\u001b[39;49m\u001b[38;5;124;43m'\u001b[39;49m\u001b[43m]\u001b[49m\n",
      "\u001b[1;31mKeyError\u001b[0m: 'salary'"
     ]
    }
   ],
   "source": [
    "info['salary']"
   ]
  },
  {
   "cell_type": "code",
   "execution_count": 336,
   "id": "da09c879",
   "metadata": {},
   "outputs": [
    {
     "data": {
      "text/plain": [
       "'Raghul Ramesh'"
      ]
     },
     "execution_count": 336,
     "metadata": {},
     "output_type": "execute_result"
    }
   ],
   "source": [
    "info.get('name',\"Not Exists\")"
   ]
  },
  {
   "cell_type": "code",
   "execution_count": 339,
   "id": "b12c3dcc",
   "metadata": {},
   "outputs": [],
   "source": [
    "info.get('salary')"
   ]
  },
  {
   "cell_type": "code",
   "execution_count": 338,
   "id": "6635ec33",
   "metadata": {},
   "outputs": [
    {
     "data": {
      "text/plain": [
       "{'name': 'Raghul Ramesh',\n",
       " 'city': 'chennai',\n",
       " 'tech': ['Python', 'SQL', 'Hadoop', 'Spark', 'AIML'],\n",
       " 'age': 38}"
      ]
     },
     "execution_count": 338,
     "metadata": {},
     "output_type": "execute_result"
    }
   ],
   "source": [
    "info"
   ]
  },
  {
   "cell_type": "code",
   "execution_count": 340,
   "id": "9971b930",
   "metadata": {},
   "outputs": [
    {
     "data": {
      "text/plain": [
       "100"
      ]
     },
     "execution_count": 340,
     "metadata": {},
     "output_type": "execute_result"
    }
   ],
   "source": [
    "info.get('salary',100)"
   ]
  },
  {
   "cell_type": "code",
   "execution_count": 341,
   "id": "e766f8a2",
   "metadata": {},
   "outputs": [
    {
     "data": {
      "text/plain": [
       "{'name': 'Raghul Ramesh',\n",
       " 'city': 'chennai',\n",
       " 'tech': ['Python', 'SQL', 'Hadoop', 'Spark', 'AIML'],\n",
       " 'age': 38}"
      ]
     },
     "execution_count": 341,
     "metadata": {},
     "output_type": "execute_result"
    }
   ],
   "source": [
    "info"
   ]
  },
  {
   "cell_type": "code",
   "execution_count": 343,
   "id": "62f23cf0",
   "metadata": {},
   "outputs": [
    {
     "data": {
      "text/plain": [
       "'Raghul Ramesh'"
      ]
     },
     "execution_count": 343,
     "metadata": {},
     "output_type": "execute_result"
    }
   ],
   "source": [
    "info.setdefault('name','not exists')"
   ]
  },
  {
   "cell_type": "code",
   "execution_count": 344,
   "id": "5c906593",
   "metadata": {},
   "outputs": [
    {
     "data": {
      "text/plain": [
       "1000"
      ]
     },
     "execution_count": 344,
     "metadata": {},
     "output_type": "execute_result"
    }
   ],
   "source": [
    "info.setdefault('salary',1000)"
   ]
  },
  {
   "cell_type": "code",
   "execution_count": 345,
   "id": "4ff389db",
   "metadata": {},
   "outputs": [
    {
     "data": {
      "text/plain": [
       "{'name': 'Raghul Ramesh',\n",
       " 'city': 'chennai',\n",
       " 'tech': ['Python', 'SQL', 'Hadoop', 'Spark', 'AIML'],\n",
       " 'age': 38,\n",
       " 'salary': 1000}"
      ]
     },
     "execution_count": 345,
     "metadata": {},
     "output_type": "execute_result"
    }
   ],
   "source": [
    "info"
   ]
  },
  {
   "cell_type": "code",
   "execution_count": 346,
   "id": "08a4c5f4",
   "metadata": {},
   "outputs": [],
   "source": [
    "#keys(), values(), items()"
   ]
  },
  {
   "cell_type": "code",
   "execution_count": 347,
   "id": "6390061d",
   "metadata": {},
   "outputs": [
    {
     "data": {
      "text/plain": [
       "dict_keys(['name', 'city', 'tech', 'age', 'salary'])"
      ]
     },
     "execution_count": 347,
     "metadata": {},
     "output_type": "execute_result"
    }
   ],
   "source": [
    "info.keys()"
   ]
  },
  {
   "cell_type": "code",
   "execution_count": 350,
   "id": "ff1a1820",
   "metadata": {},
   "outputs": [
    {
     "name": "stdout",
     "output_type": "stream",
     "text": [
      "name ====> Raghul Ramesh\n",
      "city ====> chennai\n",
      "tech ====> ['Python', 'SQL', 'Hadoop', 'Spark', 'AIML']\n",
      "age ====> 38\n",
      "salary ====> 1000\n"
     ]
    }
   ],
   "source": [
    "for k in info.keys():\n",
    "    print(k + \" ====> \"+ str(info[k]))"
   ]
  },
  {
   "cell_type": "code",
   "execution_count": 351,
   "id": "c00bf483",
   "metadata": {},
   "outputs": [
    {
     "name": "stdout",
     "output_type": "stream",
     "text": [
      "Raghul Ramesh\n",
      "chennai\n",
      "['Python', 'SQL', 'Hadoop', 'Spark', 'AIML']\n",
      "38\n",
      "1000\n"
     ]
    }
   ],
   "source": [
    "for v in info.values():\n",
    "    print(v)"
   ]
  },
  {
   "cell_type": "code",
   "execution_count": 352,
   "id": "b831d134",
   "metadata": {},
   "outputs": [
    {
     "name": "stdout",
     "output_type": "stream",
     "text": [
      "name ----------> Raghul Ramesh\n",
      "city ----------> chennai\n",
      "tech ----------> ['Python', 'SQL', 'Hadoop', 'Spark', 'AIML']\n",
      "age ----------> 38\n",
      "salary ----------> 1000\n"
     ]
    }
   ],
   "source": [
    "for k, v in info.items():\n",
    "    print(k + ' ----------> '+ str(v))"
   ]
  },
  {
   "cell_type": "code",
   "execution_count": 353,
   "id": "987aca3d",
   "metadata": {},
   "outputs": [
    {
     "data": {
      "text/plain": [
       "{'name': 'Raghul Ramesh',\n",
       " 'city': 'chennai',\n",
       " 'tech': ['Python', 'SQL', 'Hadoop', 'Spark', 'AIML'],\n",
       " 'age': 38,\n",
       " 'salary': 1000}"
      ]
     },
     "execution_count": 353,
     "metadata": {},
     "output_type": "execute_result"
    }
   ],
   "source": [
    "info"
   ]
  },
  {
   "cell_type": "code",
   "execution_count": 354,
   "id": "a07d5a31",
   "metadata": {},
   "outputs": [],
   "source": [
    "info['exp']=17"
   ]
  },
  {
   "cell_type": "code",
   "execution_count": 355,
   "id": "0481be5e",
   "metadata": {},
   "outputs": [
    {
     "data": {
      "text/plain": [
       "{'name': 'Raghul Ramesh',\n",
       " 'city': 'chennai',\n",
       " 'tech': ['Python', 'SQL', 'Hadoop', 'Spark', 'AIML'],\n",
       " 'age': 38,\n",
       " 'salary': 1000,\n",
       " 'exp': 17}"
      ]
     },
     "execution_count": 355,
     "metadata": {},
     "output_type": "execute_result"
    }
   ],
   "source": [
    "info"
   ]
  },
  {
   "cell_type": "code",
   "execution_count": 356,
   "id": "8e810a06",
   "metadata": {},
   "outputs": [],
   "source": [
    "info['designation']='solution architech'"
   ]
  },
  {
   "cell_type": "code",
   "execution_count": 357,
   "id": "95430f73",
   "metadata": {},
   "outputs": [
    {
     "data": {
      "text/plain": [
       "{'name': 'Raghul Ramesh',\n",
       " 'city': 'chennai',\n",
       " 'tech': ['Python', 'SQL', 'Hadoop', 'Spark', 'AIML'],\n",
       " 'age': 38,\n",
       " 'salary': 1000,\n",
       " 'exp': 17,\n",
       " 'designation': 'solution architech'}"
      ]
     },
     "execution_count": 357,
     "metadata": {},
     "output_type": "execute_result"
    }
   ],
   "source": [
    "info"
   ]
  },
  {
   "cell_type": "code",
   "execution_count": 358,
   "id": "7f3265fd",
   "metadata": {},
   "outputs": [],
   "source": [
    "info['salary']=2000"
   ]
  },
  {
   "cell_type": "code",
   "execution_count": 359,
   "id": "7bb04506",
   "metadata": {},
   "outputs": [
    {
     "data": {
      "text/plain": [
       "{'name': 'Raghul Ramesh',\n",
       " 'city': 'chennai',\n",
       " 'tech': ['Python', 'SQL', 'Hadoop', 'Spark', 'AIML'],\n",
       " 'age': 38,\n",
       " 'salary': 2000,\n",
       " 'exp': 17,\n",
       " 'designation': 'solution architech'}"
      ]
     },
     "execution_count": 359,
     "metadata": {},
     "output_type": "execute_result"
    }
   ],
   "source": [
    "info"
   ]
  },
  {
   "cell_type": "code",
   "execution_count": 360,
   "id": "3fe2c4f2",
   "metadata": {},
   "outputs": [],
   "source": [
    "info['designation']='Engineering Manager'"
   ]
  },
  {
   "cell_type": "code",
   "execution_count": 361,
   "id": "0ee9fa52",
   "metadata": {},
   "outputs": [
    {
     "data": {
      "text/plain": [
       "{'name': 'Raghul Ramesh',\n",
       " 'city': 'chennai',\n",
       " 'tech': ['Python', 'SQL', 'Hadoop', 'Spark', 'AIML'],\n",
       " 'age': 38,\n",
       " 'salary': 2000,\n",
       " 'exp': 17,\n",
       " 'designation': 'Engineering Manager'}"
      ]
     },
     "execution_count": 361,
     "metadata": {},
     "output_type": "execute_result"
    }
   ],
   "source": [
    "info"
   ]
  },
  {
   "cell_type": "code",
   "execution_count": 362,
   "id": "5292d47c",
   "metadata": {},
   "outputs": [],
   "source": [
    "info.update({'country':'india','salary':5000,'city':'Hyderabad',\"manager\":\"Mohan\"})"
   ]
  },
  {
   "cell_type": "code",
   "execution_count": 363,
   "id": "e0298924",
   "metadata": {},
   "outputs": [
    {
     "data": {
      "text/plain": [
       "{'name': 'Raghul Ramesh',\n",
       " 'city': 'Hyderabad',\n",
       " 'tech': ['Python', 'SQL', 'Hadoop', 'Spark', 'AIML'],\n",
       " 'age': 38,\n",
       " 'salary': 5000,\n",
       " 'exp': 17,\n",
       " 'designation': 'Engineering Manager',\n",
       " 'country': 'india',\n",
       " 'manager': 'Mohan'}"
      ]
     },
     "execution_count": 363,
     "metadata": {},
     "output_type": "execute_result"
    }
   ],
   "source": [
    "info"
   ]
  },
  {
   "cell_type": "code",
   "execution_count": 364,
   "id": "0669b33b",
   "metadata": {},
   "outputs": [
    {
     "data": {
      "text/plain": [
       "5000"
      ]
     },
     "execution_count": 364,
     "metadata": {},
     "output_type": "execute_result"
    }
   ],
   "source": [
    "info.pop('salary')"
   ]
  },
  {
   "cell_type": "code",
   "execution_count": 365,
   "id": "344bd5ed",
   "metadata": {},
   "outputs": [
    {
     "data": {
      "text/plain": [
       "{'name': 'Raghul Ramesh',\n",
       " 'city': 'Hyderabad',\n",
       " 'tech': ['Python', 'SQL', 'Hadoop', 'Spark', 'AIML'],\n",
       " 'age': 38,\n",
       " 'exp': 17,\n",
       " 'designation': 'Engineering Manager',\n",
       " 'country': 'india',\n",
       " 'manager': 'Mohan'}"
      ]
     },
     "execution_count": 365,
     "metadata": {},
     "output_type": "execute_result"
    }
   ],
   "source": [
    "info"
   ]
  },
  {
   "cell_type": "code",
   "execution_count": 368,
   "id": "53f9f384",
   "metadata": {},
   "outputs": [
    {
     "data": {
      "text/plain": [
       "('manager', 'Mohan')"
      ]
     },
     "execution_count": 368,
     "metadata": {},
     "output_type": "execute_result"
    }
   ],
   "source": [
    "info.popitem()"
   ]
  },
  {
   "cell_type": "code",
   "execution_count": 369,
   "id": "2172e065",
   "metadata": {},
   "outputs": [
    {
     "data": {
      "text/plain": [
       "('country', 'india')"
      ]
     },
     "execution_count": 369,
     "metadata": {},
     "output_type": "execute_result"
    }
   ],
   "source": [
    "info.popitem()"
   ]
  },
  {
   "cell_type": "code",
   "execution_count": 370,
   "id": "d67d0a80",
   "metadata": {},
   "outputs": [
    {
     "data": {
      "text/plain": [
       "{'name': 'Raghul Ramesh',\n",
       " 'city': 'Hyderabad',\n",
       " 'tech': ['Python', 'SQL', 'Hadoop', 'Spark', 'AIML'],\n",
       " 'age': 38,\n",
       " 'exp': 17,\n",
       " 'designation': 'Engineering Manager'}"
      ]
     },
     "execution_count": 370,
     "metadata": {},
     "output_type": "execute_result"
    }
   ],
   "source": [
    "info"
   ]
  },
  {
   "cell_type": "code",
   "execution_count": 371,
   "id": "540a4f24",
   "metadata": {},
   "outputs": [
    {
     "name": "stdout",
     "output_type": "stream",
     "text": [
      "['__class__', '__contains__', '__delattr__', '__delitem__', '__dir__', '__doc__', '__eq__', '__format__', '__ge__', '__getattribute__', '__getitem__', '__gt__', '__hash__', '__init__', '__init_subclass__', '__iter__', '__le__', '__len__', '__lt__', '__ne__', '__new__', '__reduce__', '__reduce_ex__', '__repr__', '__reversed__', '__setattr__', '__setitem__', '__sizeof__', '__str__', '__subclasshook__', 'clear', 'copy', 'fromkeys', 'get', 'items', 'keys', 'pop', 'popitem', 'setdefault', 'update', 'values']\n"
     ]
    }
   ],
   "source": [
    "print(dir(info))"
   ]
  },
  {
   "cell_type": "code",
   "execution_count": 372,
   "id": "7f2e2055",
   "metadata": {},
   "outputs": [],
   "source": [
    "emp_data=['name','location','exp','salary','manager']"
   ]
  },
  {
   "cell_type": "code",
   "execution_count": 377,
   "id": "0546aff3",
   "metadata": {},
   "outputs": [],
   "source": [
    "employee=dict.fromkeys(emp_data,['Raghul Ramesh','Chennai',17,1000,'Mohan'])"
   ]
  },
  {
   "cell_type": "code",
   "execution_count": 378,
   "id": "d212c0b4",
   "metadata": {},
   "outputs": [
    {
     "data": {
      "text/plain": [
       "{'name': ['Raghul Ramesh', 'Chennai', 17, 1000, 'Mohan'],\n",
       " 'location': ['Raghul Ramesh', 'Chennai', 17, 1000, 'Mohan'],\n",
       " 'exp': ['Raghul Ramesh', 'Chennai', 17, 1000, 'Mohan'],\n",
       " 'salary': ['Raghul Ramesh', 'Chennai', 17, 1000, 'Mohan'],\n",
       " 'manager': ['Raghul Ramesh', 'Chennai', 17, 1000, 'Mohan']}"
      ]
     },
     "execution_count": 378,
     "metadata": {},
     "output_type": "execute_result"
    }
   ],
   "source": [
    "employee"
   ]
  },
  {
   "cell_type": "code",
   "execution_count": 379,
   "id": "80f961f3",
   "metadata": {},
   "outputs": [],
   "source": [
    "employee=dict.fromkeys(emp_data)"
   ]
  },
  {
   "cell_type": "code",
   "execution_count": 382,
   "id": "63e4fb50",
   "metadata": {},
   "outputs": [],
   "source": [
    "employee=dict.fromkeys(emp_data,'NA')"
   ]
  },
  {
   "cell_type": "code",
   "execution_count": 383,
   "id": "a23c871e",
   "metadata": {},
   "outputs": [
    {
     "data": {
      "text/plain": [
       "{'name': 'NA', 'location': 'NA', 'exp': 'NA', 'salary': 'NA', 'manager': 'NA'}"
      ]
     },
     "execution_count": 383,
     "metadata": {},
     "output_type": "execute_result"
    }
   ],
   "source": [
    "employee"
   ]
  },
  {
   "cell_type": "code",
   "execution_count": 384,
   "id": "fa2178e2",
   "metadata": {},
   "outputs": [
    {
     "name": "stdout",
     "output_type": "stream",
     "text": [
      "['__class__', '__contains__', '__delattr__', '__delitem__', '__dir__', '__doc__', '__eq__', '__format__', '__ge__', '__getattribute__', '__getitem__', '__gt__', '__hash__', '__init__', '__init_subclass__', '__iter__', '__le__', '__len__', '__lt__', '__ne__', '__new__', '__reduce__', '__reduce_ex__', '__repr__', '__reversed__', '__setattr__', '__setitem__', '__sizeof__', '__str__', '__subclasshook__', 'clear', 'copy', 'fromkeys', 'get', 'items', 'keys', 'pop', 'popitem', 'setdefault', 'update', 'values']\n"
     ]
    }
   ],
   "source": [
    "print(dir(employee))"
   ]
  },
  {
   "cell_type": "code",
   "execution_count": 385,
   "id": "ba1b58d2",
   "metadata": {},
   "outputs": [
    {
     "data": {
      "text/plain": [
       "{'name': 'NA', 'location': 'NA', 'exp': 'NA', 'salary': 'NA', 'manager': 'NA'}"
      ]
     },
     "execution_count": 385,
     "metadata": {},
     "output_type": "execute_result"
    }
   ],
   "source": [
    "employee"
   ]
  },
  {
   "cell_type": "code",
   "execution_count": 386,
   "id": "e96eea40",
   "metadata": {},
   "outputs": [],
   "source": [
    "employee.clear()"
   ]
  },
  {
   "cell_type": "code",
   "execution_count": 387,
   "id": "181001d0",
   "metadata": {},
   "outputs": [
    {
     "data": {
      "text/plain": [
       "{}"
      ]
     },
     "execution_count": 387,
     "metadata": {},
     "output_type": "execute_result"
    }
   ],
   "source": [
    "employee"
   ]
  },
  {
   "cell_type": "code",
   "execution_count": null,
   "id": "503f8f40",
   "metadata": {},
   "outputs": [],
   "source": [
    "-- DICTIONARY COMPREHENSIONS"
   ]
  }
 ],
 "metadata": {
  "kernelspec": {
   "display_name": "Python 3 (ipykernel)",
   "language": "python",
   "name": "python3"
  },
  "language_info": {
   "codemirror_mode": {
    "name": "ipython",
    "version": 3
   },
   "file_extension": ".py",
   "mimetype": "text/x-python",
   "name": "python",
   "nbconvert_exporter": "python",
   "pygments_lexer": "ipython3",
   "version": "3.8.10"
  }
 },
 "nbformat": 4,
 "nbformat_minor": 5
}
