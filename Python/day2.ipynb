{
 "cells": [
  {
   "cell_type": "markdown",
   "id": "36981e2c",
   "metadata": {},
   "source": [
    "# set"
   ]
  },
  {
   "cell_type": "code",
   "execution_count": 1,
   "id": "b1b4dcfa",
   "metadata": {},
   "outputs": [],
   "source": [
    "nums={1,2,4,6,3,1,2,3,5,10,7,6,8,9,11}"
   ]
  },
  {
   "cell_type": "code",
   "execution_count": 2,
   "id": "1a6322fc",
   "metadata": {},
   "outputs": [
    {
     "data": {
      "text/plain": [
       "set"
      ]
     },
     "execution_count": 2,
     "metadata": {},
     "output_type": "execute_result"
    }
   ],
   "source": [
    "type(nums)"
   ]
  },
  {
   "cell_type": "code",
   "execution_count": 3,
   "id": "dd022878",
   "metadata": {},
   "outputs": [
    {
     "data": {
      "text/plain": [
       "{1, 2, 3, 4, 5, 6, 7, 8, 9, 10, 11}"
      ]
     },
     "execution_count": 3,
     "metadata": {},
     "output_type": "execute_result"
    }
   ],
   "source": [
    "nums"
   ]
  },
  {
   "cell_type": "code",
   "execution_count": 4,
   "id": "65cb5454",
   "metadata": {},
   "outputs": [],
   "source": [
    "nums.add(5.5)"
   ]
  },
  {
   "cell_type": "code",
   "execution_count": 5,
   "id": "cc341bac",
   "metadata": {},
   "outputs": [
    {
     "data": {
      "text/plain": [
       "{1, 2, 3, 4, 5, 5.5, 6, 7, 8, 9, 10, 11}"
      ]
     },
     "execution_count": 5,
     "metadata": {},
     "output_type": "execute_result"
    }
   ],
   "source": [
    "nums"
   ]
  },
  {
   "cell_type": "code",
   "execution_count": 6,
   "id": "30751980",
   "metadata": {},
   "outputs": [],
   "source": [
    "odds={1,3,5,7,9}\n",
    "even={2,4,6,8,10}\n",
    "prime={1,2,3,5,7}\n",
    "composites={1,2,3,4,5,7,8,9}"
   ]
  },
  {
   "cell_type": "code",
   "execution_count": 7,
   "id": "316b4945",
   "metadata": {},
   "outputs": [
    {
     "data": {
      "text/plain": [
       "{1, 2, 3, 4, 5, 6, 7, 8, 9, 10}"
      ]
     },
     "execution_count": 7,
     "metadata": {},
     "output_type": "execute_result"
    }
   ],
   "source": [
    "odds.union(even)"
   ]
  },
  {
   "cell_type": "code",
   "execution_count": 8,
   "id": "6d7c5688",
   "metadata": {},
   "outputs": [
    {
     "data": {
      "text/plain": [
       "{1, 2, 3, 4, 5, 6, 7, 8, 9, 10}"
      ]
     },
     "execution_count": 8,
     "metadata": {},
     "output_type": "execute_result"
    }
   ],
   "source": [
    "even.union(odds)"
   ]
  },
  {
   "cell_type": "code",
   "execution_count": 9,
   "id": "0adc4c90",
   "metadata": {},
   "outputs": [
    {
     "data": {
      "text/plain": [
       "set()"
      ]
     },
     "execution_count": 9,
     "metadata": {},
     "output_type": "execute_result"
    }
   ],
   "source": [
    "odds.intersection(even)"
   ]
  },
  {
   "cell_type": "code",
   "execution_count": 10,
   "id": "e3011929",
   "metadata": {},
   "outputs": [
    {
     "data": {
      "text/plain": [
       "{1, 3, 5, 7, 9}"
      ]
     },
     "execution_count": 10,
     "metadata": {},
     "output_type": "execute_result"
    }
   ],
   "source": [
    "odds.intersection(composites)"
   ]
  },
  {
   "cell_type": "code",
   "execution_count": 12,
   "id": "ea111b8e",
   "metadata": {},
   "outputs": [
    {
     "data": {
      "text/plain": [
       "{2, 4, 8}"
      ]
     },
     "execution_count": 12,
     "metadata": {},
     "output_type": "execute_result"
    }
   ],
   "source": [
    "composites.difference(odds)"
   ]
  },
  {
   "cell_type": "code",
   "execution_count": 13,
   "id": "07560f85",
   "metadata": {},
   "outputs": [
    {
     "data": {
      "text/plain": [
       "{6, 10}"
      ]
     },
     "execution_count": 13,
     "metadata": {},
     "output_type": "execute_result"
    }
   ],
   "source": [
    "even.difference(composites)"
   ]
  },
  {
   "cell_type": "code",
   "execution_count": 14,
   "id": "731d4a0c",
   "metadata": {},
   "outputs": [
    {
     "data": {
      "text/plain": [
       "{1, 3, 5, 7, 9}"
      ]
     },
     "execution_count": 14,
     "metadata": {},
     "output_type": "execute_result"
    }
   ],
   "source": [
    "composites.difference(even)"
   ]
  },
  {
   "cell_type": "code",
   "execution_count": 15,
   "id": "fcbb562f",
   "metadata": {},
   "outputs": [
    {
     "data": {
      "text/plain": [
       "{2, 4, 8}"
      ]
     },
     "execution_count": 15,
     "metadata": {},
     "output_type": "execute_result"
    }
   ],
   "source": [
    "even.intersection(composites)"
   ]
  },
  {
   "cell_type": "code",
   "execution_count": 16,
   "id": "e4adfe13",
   "metadata": {},
   "outputs": [
    {
     "data": {
      "text/plain": [
       "{1, 3, 5, 6, 7, 9, 10}"
      ]
     },
     "execution_count": 16,
     "metadata": {},
     "output_type": "execute_result"
    }
   ],
   "source": [
    "(even.difference(composites)).union(composites.difference(even))"
   ]
  },
  {
   "cell_type": "code",
   "execution_count": 17,
   "id": "1da3d15f",
   "metadata": {},
   "outputs": [
    {
     "data": {
      "text/plain": [
       "{1, 3, 5, 6, 7, 9, 10}"
      ]
     },
     "execution_count": 17,
     "metadata": {},
     "output_type": "execute_result"
    }
   ],
   "source": [
    "even.symmetric_difference(composites)"
   ]
  },
  {
   "cell_type": "code",
   "execution_count": 18,
   "id": "b1123a7a",
   "metadata": {},
   "outputs": [
    {
     "data": {
      "text/plain": [
       "{2, 4, 6, 8, 10}"
      ]
     },
     "execution_count": 18,
     "metadata": {},
     "output_type": "execute_result"
    }
   ],
   "source": [
    "even"
   ]
  },
  {
   "cell_type": "code",
   "execution_count": 19,
   "id": "ac7664f8",
   "metadata": {},
   "outputs": [],
   "source": [
    "even.add(6)"
   ]
  },
  {
   "cell_type": "code",
   "execution_count": 20,
   "id": "71891fb2",
   "metadata": {},
   "outputs": [
    {
     "data": {
      "text/plain": [
       "{2, 4, 6, 8, 10}"
      ]
     },
     "execution_count": 20,
     "metadata": {},
     "output_type": "execute_result"
    }
   ],
   "source": [
    "even"
   ]
  },
  {
   "cell_type": "code",
   "execution_count": null,
   "id": "6b2ea48b",
   "metadata": {},
   "outputs": [],
   "source": []
  },
  {
   "cell_type": "code",
   "execution_count": 22,
   "id": "d794f2ed",
   "metadata": {},
   "outputs": [],
   "source": [
    "employees={'Levin','Venkatesh','Krishna','Ramya','Siva','Subramani'}\n",
    "developer={'Venkatesh','Krishna','Ramesh','Abirami'}\n",
    "gym_user={'Ramesh','Venkatesh','Siva','Subramani','Ganesh'}\n",
    "\n",
    "# 1.Get the employees list who are working as a developer and using gym\n",
    "# 2.List the name who are using gym and not an employee of the company\n",
    "# 3.Which all are the employee , not a developer and not using gym facilities"
   ]
  },
  {
   "cell_type": "code",
   "execution_count": 24,
   "id": "f24156ff",
   "metadata": {},
   "outputs": [
    {
     "data": {
      "text/plain": [
       "{'Venkatesh'}"
      ]
     },
     "execution_count": 24,
     "metadata": {},
     "output_type": "execute_result"
    }
   ],
   "source": [
    "employees.intersection(developer.intersection(gym_user))"
   ]
  },
  {
   "cell_type": "code",
   "execution_count": 25,
   "id": "10ae3e16",
   "metadata": {},
   "outputs": [
    {
     "data": {
      "text/plain": [
       "{'Ganesh', 'Ramesh'}"
      ]
     },
     "execution_count": 25,
     "metadata": {},
     "output_type": "execute_result"
    }
   ],
   "source": [
    "gym_user.difference(employees)"
   ]
  },
  {
   "cell_type": "code",
   "execution_count": 27,
   "id": "f898811a",
   "metadata": {},
   "outputs": [
    {
     "data": {
      "text/plain": [
       "{'Levin', 'Ramya'}"
      ]
     },
     "execution_count": 27,
     "metadata": {},
     "output_type": "execute_result"
    }
   ],
   "source": [
    "employees.difference(developer.union(gym_user))"
   ]
  },
  {
   "cell_type": "markdown",
   "id": "22fd2489",
   "metadata": {},
   "source": [
    "# Definitions"
   ]
  },
  {
   "cell_type": "code",
   "execution_count": 28,
   "id": "515c66a2",
   "metadata": {},
   "outputs": [],
   "source": [
    "def add_nums(x,y):\n",
    "    return x+y"
   ]
  },
  {
   "cell_type": "code",
   "execution_count": 29,
   "id": "06002cfd",
   "metadata": {},
   "outputs": [
    {
     "data": {
      "text/plain": [
       "11"
      ]
     },
     "execution_count": 29,
     "metadata": {},
     "output_type": "execute_result"
    }
   ],
   "source": [
    "add_nums(5,6)"
   ]
  },
  {
   "cell_type": "code",
   "execution_count": 30,
   "id": "6e588f37",
   "metadata": {},
   "outputs": [
    {
     "data": {
      "text/plain": [
       "30"
      ]
     },
     "execution_count": 30,
     "metadata": {},
     "output_type": "execute_result"
    }
   ],
   "source": [
    "add_nums(10,20)"
   ]
  },
  {
   "cell_type": "code",
   "execution_count": 31,
   "id": "945f118c",
   "metadata": {},
   "outputs": [
    {
     "ename": "TypeError",
     "evalue": "add_nums() takes 2 positional arguments but 3 were given",
     "output_type": "error",
     "traceback": [
      "\u001b[1;31m---------------------------------------------------------------------------\u001b[0m",
      "\u001b[1;31mTypeError\u001b[0m                                 Traceback (most recent call last)",
      "Cell \u001b[1;32mIn [31], line 1\u001b[0m\n\u001b[1;32m----> 1\u001b[0m \u001b[43madd_nums\u001b[49m\u001b[43m(\u001b[49m\u001b[38;5;241;43m10\u001b[39;49m\u001b[43m,\u001b[49m\u001b[38;5;241;43m20\u001b[39;49m\u001b[43m,\u001b[49m\u001b[38;5;241;43m30\u001b[39;49m\u001b[43m)\u001b[49m\n",
      "\u001b[1;31mTypeError\u001b[0m: add_nums() takes 2 positional arguments but 3 were given"
     ]
    }
   ],
   "source": [
    "add_nums(10,20,30)"
   ]
  },
  {
   "cell_type": "code",
   "execution_count": 32,
   "id": "16ba0c53",
   "metadata": {},
   "outputs": [
    {
     "ename": "TypeError",
     "evalue": "add_nums() missing 1 required positional argument: 'y'",
     "output_type": "error",
     "traceback": [
      "\u001b[1;31m---------------------------------------------------------------------------\u001b[0m",
      "\u001b[1;31mTypeError\u001b[0m                                 Traceback (most recent call last)",
      "Cell \u001b[1;32mIn [32], line 1\u001b[0m\n\u001b[1;32m----> 1\u001b[0m \u001b[43madd_nums\u001b[49m\u001b[43m(\u001b[49m\u001b[38;5;241;43m10\u001b[39;49m\u001b[43m)\u001b[49m\n",
      "\u001b[1;31mTypeError\u001b[0m: add_nums() missing 1 required positional argument: 'y'"
     ]
    }
   ],
   "source": [
    "add_nums(10)"
   ]
  },
  {
   "cell_type": "code",
   "execution_count": 33,
   "id": "968d9bae",
   "metadata": {},
   "outputs": [
    {
     "ename": "TypeError",
     "evalue": "add_nums() missing 2 required positional arguments: 'x' and 'y'",
     "output_type": "error",
     "traceback": [
      "\u001b[1;31m---------------------------------------------------------------------------\u001b[0m",
      "\u001b[1;31mTypeError\u001b[0m                                 Traceback (most recent call last)",
      "Cell \u001b[1;32mIn [33], line 1\u001b[0m\n\u001b[1;32m----> 1\u001b[0m \u001b[43madd_nums\u001b[49m\u001b[43m(\u001b[49m\u001b[43m)\u001b[49m\n",
      "\u001b[1;31mTypeError\u001b[0m: add_nums() missing 2 required positional arguments: 'x' and 'y'"
     ]
    }
   ],
   "source": [
    "add_nums()"
   ]
  },
  {
   "cell_type": "code",
   "execution_count": 34,
   "id": "b6ea7218",
   "metadata": {},
   "outputs": [],
   "source": [
    "def add_nums(x,y=0):   # Default variable\n",
    "    return x+y"
   ]
  },
  {
   "cell_type": "code",
   "execution_count": 35,
   "id": "3279a412",
   "metadata": {},
   "outputs": [
    {
     "data": {
      "text/plain": [
       "30"
      ]
     },
     "execution_count": 35,
     "metadata": {},
     "output_type": "execute_result"
    }
   ],
   "source": [
    "add_nums(10,20)"
   ]
  },
  {
   "cell_type": "code",
   "execution_count": 36,
   "id": "bdcef40e",
   "metadata": {},
   "outputs": [
    {
     "data": {
      "text/plain": [
       "10"
      ]
     },
     "execution_count": 36,
     "metadata": {},
     "output_type": "execute_result"
    }
   ],
   "source": [
    "add_nums(10)"
   ]
  },
  {
   "cell_type": "code",
   "execution_count": 38,
   "id": "b2e37aba",
   "metadata": {},
   "outputs": [
    {
     "ename": "TypeError",
     "evalue": "add_nums() takes from 1 to 2 positional arguments but 3 were given",
     "output_type": "error",
     "traceback": [
      "\u001b[1;31m---------------------------------------------------------------------------\u001b[0m",
      "\u001b[1;31mTypeError\u001b[0m                                 Traceback (most recent call last)",
      "Cell \u001b[1;32mIn [38], line 1\u001b[0m\n\u001b[1;32m----> 1\u001b[0m \u001b[43madd_nums\u001b[49m\u001b[43m(\u001b[49m\u001b[38;5;241;43m10\u001b[39;49m\u001b[43m,\u001b[49m\u001b[38;5;241;43m20\u001b[39;49m\u001b[43m,\u001b[49m\u001b[38;5;241;43m30\u001b[39;49m\u001b[43m)\u001b[49m\n",
      "\u001b[1;31mTypeError\u001b[0m: add_nums() takes from 1 to 2 positional arguments but 3 were given"
     ]
    }
   ],
   "source": [
    "add_nums(10,20,30)"
   ]
  },
  {
   "cell_type": "code",
   "execution_count": 39,
   "id": "df0b5e32",
   "metadata": {},
   "outputs": [],
   "source": [
    "def add_nums(x,y):    #Documentory string\n",
    "    ''' The add_nums is for adding 2 number, Please call the function with two number to get some of those'''\n",
    "    return x+y"
   ]
  },
  {
   "cell_type": "code",
   "execution_count": 43,
   "id": "d960041d",
   "metadata": {},
   "outputs": [
    {
     "data": {
      "text/plain": [
       "' The add_nums is for adding 2 number, Please call the function with two number to get some of those'"
      ]
     },
     "execution_count": 43,
     "metadata": {},
     "output_type": "execute_result"
    }
   ],
   "source": [
    "add_nums.__doc__"
   ]
  },
  {
   "cell_type": "code",
   "execution_count": 44,
   "id": "a9b2e71c",
   "metadata": {},
   "outputs": [
    {
     "data": {
      "text/plain": [
       "110"
      ]
     },
     "execution_count": 44,
     "metadata": {},
     "output_type": "execute_result"
    }
   ],
   "source": [
    "add_nums(50,60)"
   ]
  },
  {
   "cell_type": "code",
   "execution_count": 45,
   "id": "ee80d6a5",
   "metadata": {},
   "outputs": [],
   "source": [
    "def add_nums(x,*y):    # *args -> takes any number of arguments\n",
    "    return x+sum(y)"
   ]
  },
  {
   "cell_type": "code",
   "execution_count": 47,
   "id": "59b14a24",
   "metadata": {},
   "outputs": [
    {
     "data": {
      "text/plain": [
       "10"
      ]
     },
     "execution_count": 47,
     "metadata": {},
     "output_type": "execute_result"
    }
   ],
   "source": [
    "add_nums(10)"
   ]
  },
  {
   "cell_type": "code",
   "execution_count": 48,
   "id": "4c28239b",
   "metadata": {},
   "outputs": [
    {
     "data": {
      "text/plain": [
       "30"
      ]
     },
     "execution_count": 48,
     "metadata": {},
     "output_type": "execute_result"
    }
   ],
   "source": [
    "add_nums(10,20)"
   ]
  },
  {
   "cell_type": "code",
   "execution_count": 49,
   "id": "790dc1e1",
   "metadata": {},
   "outputs": [
    {
     "data": {
      "text/plain": [
       "150"
      ]
     },
     "execution_count": 49,
     "metadata": {},
     "output_type": "execute_result"
    }
   ],
   "source": [
    "add_nums(10,20,30,40,50)"
   ]
  },
  {
   "cell_type": "code",
   "execution_count": 50,
   "id": "ef5da407",
   "metadata": {},
   "outputs": [
    {
     "data": {
      "text/plain": [
       "100"
      ]
     },
     "execution_count": 50,
     "metadata": {},
     "output_type": "execute_result"
    }
   ],
   "source": [
    "add_nums(10,20,30,40)"
   ]
  },
  {
   "cell_type": "code",
   "execution_count": 52,
   "id": "cb74f6a0",
   "metadata": {},
   "outputs": [],
   "source": [
    "def add_nums(*x):    # *args -> takes any number of arguments\n",
    "    return sum(x)"
   ]
  },
  {
   "cell_type": "code",
   "execution_count": 53,
   "id": "49b5f68f",
   "metadata": {},
   "outputs": [
    {
     "data": {
      "text/plain": [
       "150"
      ]
     },
     "execution_count": 53,
     "metadata": {},
     "output_type": "execute_result"
    }
   ],
   "source": [
    "add_nums(10,20,30,40,50)"
   ]
  },
  {
   "cell_type": "code",
   "execution_count": 54,
   "id": "9a4706e6",
   "metadata": {},
   "outputs": [
    {
     "data": {
      "text/plain": [
       "100"
      ]
     },
     "execution_count": 54,
     "metadata": {},
     "output_type": "execute_result"
    }
   ],
   "source": [
    "add_nums(10,20,30,40)"
   ]
  },
  {
   "cell_type": "code",
   "execution_count": 55,
   "id": "3a3fb589",
   "metadata": {},
   "outputs": [],
   "source": [
    "def max_of_three(a,b,c):\n",
    "    if a>b & a>c:\n",
    "        return a\n",
    "    elif b>a & b>c:\n",
    "        return b\n",
    "    else:\n",
    "        return c\n",
    " "
   ]
  },
  {
   "cell_type": "code",
   "execution_count": 56,
   "id": "881cd569",
   "metadata": {},
   "outputs": [
    {
     "data": {
      "text/plain": [
       "220"
      ]
     },
     "execution_count": 56,
     "metadata": {},
     "output_type": "execute_result"
    }
   ],
   "source": [
    "max_of_three(100,50,220)"
   ]
  },
  {
   "cell_type": "code",
   "execution_count": 57,
   "id": "70318d5e",
   "metadata": {},
   "outputs": [],
   "source": [
    "def calc(a,b):\n",
    "    print(\"Sum\",a+b)\n",
    "    print(\"Substraction\",a-b)\n",
    "    print(\"Multiplication\",a*b)\n",
    "    print(\"Division\",a/b)\n",
    "    print(\"Exponent\",a**b)"
   ]
  },
  {
   "cell_type": "code",
   "execution_count": 58,
   "id": "74e90c09",
   "metadata": {},
   "outputs": [
    {
     "name": "stdout",
     "output_type": "stream",
     "text": [
      "Sum 30\n",
      "Substraction -10\n",
      "Multiplication 200\n",
      "Division 0.5\n",
      "Exponent 100000000000000000000\n"
     ]
    }
   ],
   "source": [
    "calc(10,20)"
   ]
  },
  {
   "cell_type": "code",
   "execution_count": 59,
   "id": "c1a15a70",
   "metadata": {},
   "outputs": [],
   "source": [
    "# **kwargs"
   ]
  },
  {
   "cell_type": "code",
   "execution_count": 60,
   "id": "acffa547",
   "metadata": {},
   "outputs": [],
   "source": [
    "def info(**x):\n",
    "    print(type(x))\n",
    "    print(x)"
   ]
  },
  {
   "cell_type": "code",
   "execution_count": 61,
   "id": "46a36631",
   "metadata": {},
   "outputs": [
    {
     "name": "stdout",
     "output_type": "stream",
     "text": [
      "<class 'dict'>\n",
      "{'day': 'Wednesday', 'year': 2023, 'month': 'January'}\n"
     ]
    }
   ],
   "source": [
    "info(day=\"Wednesday\", year=2023, month=\"January\")"
   ]
  },
  {
   "cell_type": "code",
   "execution_count": 68,
   "id": "8eb4b827",
   "metadata": {},
   "outputs": [],
   "source": [
    "def myfunction(x,*y,**z):\n",
    "    print(f\"type of x is {type(x)}\")\n",
    "    print(f\"type of y is {type(y)}\")\n",
    "    print(f\"type of z is {type(z)}\")\n",
    "    print(f\"x is {x}\")\n",
    "    print(f\"y is {y}\")\n",
    "    print(f\"z is {z}\")"
   ]
  },
  {
   "cell_type": "code",
   "execution_count": 69,
   "id": "0e2c6aa7",
   "metadata": {},
   "outputs": [
    {
     "name": "stdout",
     "output_type": "stream",
     "text": [
      "type of x is <class 'int'>\n",
      "type of y is <class 'tuple'>\n",
      "type of z is <class 'dict'>\n",
      "x is 10\n",
      "y is (20, 30, 40, 50, 60)\n",
      "z is {'tech': 'Python', 'mode': 'Online'}\n"
     ]
    }
   ],
   "source": [
    "myfunction(10,20,30,40,50,60,tech=\"Python\",mode=\"Online\")"
   ]
  },
  {
   "cell_type": "code",
   "execution_count": null,
   "id": "bd767a4e",
   "metadata": {},
   "outputs": [],
   "source": [
    "#scope of the variable -> local and global\n",
    "#oops -> public, protected, private\n",
    "lambda, map,filter, reduce\n",
    "decorator and generator\n",
    "\n"
   ]
  },
  {
   "cell_type": "code",
   "execution_count": 71,
   "id": "d1c9f5f9",
   "metadata": {},
   "outputs": [
    {
     "name": "stdout",
     "output_type": "stream",
     "text": [
      "Age before the function call is : 20\n",
      "Age inside the function is : 100\n",
      "Age after the fucntion call is : 100\n"
     ]
    }
   ],
   "source": [
    "age=20  #global\n",
    "\n",
    "def callme():\n",
    "    global age\n",
    "    age=100   #local\n",
    "    print(\"Age inside the function is :\",age)   #100\n",
    "    \n",
    "print(\"Age before the function call is :\", age)  #20\n",
    "callme()\n",
    "print(\"Age after the fucntion call is :\",age)  #100\n",
    "\n"
   ]
  },
  {
   "cell_type": "code",
   "execution_count": 72,
   "id": "f1a59d3f",
   "metadata": {},
   "outputs": [
    {
     "data": {
      "text/plain": [
       "1100"
      ]
     },
     "execution_count": 72,
     "metadata": {},
     "output_type": "execute_result"
    }
   ],
   "source": [
    "#lambda, map, filter, reduce\n",
    "\n",
    "# syntax:\n",
    "#     lambda inputs: expr\n",
    "\n",
    "# to add tw number\n",
    "\n",
    "(lambda x,y : x+y)(500,600)"
   ]
  },
  {
   "cell_type": "code",
   "execution_count": 73,
   "id": "24335c26",
   "metadata": {},
   "outputs": [],
   "source": [
    "addnums=lambda x,y : x+y"
   ]
  },
  {
   "cell_type": "code",
   "execution_count": 74,
   "id": "2effa7b9",
   "metadata": {},
   "outputs": [
    {
     "data": {
      "text/plain": [
       "13"
      ]
     },
     "execution_count": 74,
     "metadata": {},
     "output_type": "execute_result"
    }
   ],
   "source": [
    "addnums(6,7)"
   ]
  },
  {
   "cell_type": "code",
   "execution_count": 75,
   "id": "a22804c0",
   "metadata": {},
   "outputs": [
    {
     "data": {
      "text/plain": [
       "300"
      ]
     },
     "execution_count": 75,
     "metadata": {},
     "output_type": "execute_result"
    }
   ],
   "source": [
    "addnums(100,200)"
   ]
  },
  {
   "cell_type": "code",
   "execution_count": 76,
   "id": "202f09c6",
   "metadata": {},
   "outputs": [],
   "source": [
    "mx=lambda a,b,c: max(a,b,c)"
   ]
  },
  {
   "cell_type": "code",
   "execution_count": 77,
   "id": "f22d22ff",
   "metadata": {},
   "outputs": [
    {
     "data": {
      "text/plain": [
       "15"
      ]
     },
     "execution_count": 77,
     "metadata": {},
     "output_type": "execute_result"
    }
   ],
   "source": [
    "mx(10,15,12)"
   ]
  },
  {
   "cell_type": "code",
   "execution_count": 78,
   "id": "44e6153b",
   "metadata": {},
   "outputs": [],
   "source": [
    "mx=lambda a,b,c: a if a>b and a>c else b if b>c and b>a else c"
   ]
  },
  {
   "cell_type": "code",
   "execution_count": 79,
   "id": "2a3de47c",
   "metadata": {},
   "outputs": [
    {
     "data": {
      "text/plain": [
       "1000"
      ]
     },
     "execution_count": 79,
     "metadata": {},
     "output_type": "execute_result"
    }
   ],
   "source": [
    "mx(100,500,1000)"
   ]
  },
  {
   "cell_type": "code",
   "execution_count": 80,
   "id": "ff9080f1",
   "metadata": {},
   "outputs": [
    {
     "data": {
      "text/plain": [
       "111"
      ]
     },
     "execution_count": 80,
     "metadata": {},
     "output_type": "execute_result"
    }
   ],
   "source": [
    "mx(111,55,66)"
   ]
  },
  {
   "cell_type": "code",
   "execution_count": 81,
   "id": "5629a242",
   "metadata": {},
   "outputs": [],
   "source": [
    "#lambda function to the area of the circles\n",
    "\n",
    "area=lambda r : 3.14*r**2"
   ]
  },
  {
   "cell_type": "code",
   "execution_count": 82,
   "id": "f655eaeb",
   "metadata": {},
   "outputs": [
    {
     "data": {
      "text/plain": [
       "78.5"
      ]
     },
     "execution_count": 82,
     "metadata": {},
     "output_type": "execute_result"
    }
   ],
   "source": [
    "area(5)"
   ]
  },
  {
   "cell_type": "code",
   "execution_count": 83,
   "id": "d5c1121b",
   "metadata": {},
   "outputs": [
    {
     "data": {
      "text/plain": [
       "314.0"
      ]
     },
     "execution_count": 83,
     "metadata": {},
     "output_type": "execute_result"
    }
   ],
   "source": [
    "area(10)"
   ]
  },
  {
   "cell_type": "markdown",
   "id": "75d64910",
   "metadata": {},
   "source": [
    "# map function"
   ]
  },
  {
   "cell_type": "code",
   "execution_count": 84,
   "id": "e47e6eae",
   "metadata": {},
   "outputs": [
    {
     "data": {
      "text/plain": [
       "[1, 4, 9, 16, 25, 36, 49, 64, 81, 100]"
      ]
     },
     "execution_count": 84,
     "metadata": {},
     "output_type": "execute_result"
    }
   ],
   "source": [
    "list(map(lambda x:x**2, [1,2,3,4,5,6,7,8,9,10]))"
   ]
  },
  {
   "cell_type": "code",
   "execution_count": 85,
   "id": "47c18ef3",
   "metadata": {},
   "outputs": [],
   "source": [
    "from math import pi\n",
    "def circle_area(r):\n",
    "    return pi*r**2"
   ]
  },
  {
   "cell_type": "code",
   "execution_count": 86,
   "id": "fd17f0b5",
   "metadata": {},
   "outputs": [
    {
     "data": {
      "text/plain": [
       "[3.141592653589793,\n",
       " 12.566370614359172,\n",
       " 28.274333882308138,\n",
       " 50.26548245743669,\n",
       " 78.53981633974483,\n",
       " 113.09733552923255,\n",
       " 153.93804002589985,\n",
       " 201.06192982974676,\n",
       " 254.46900494077323,\n",
       " 314.1592653589793]"
      ]
     },
     "execution_count": 86,
     "metadata": {},
     "output_type": "execute_result"
    }
   ],
   "source": [
    "list(map(circle_area,[1,2,3,4,5,6,7,8,9,10]))"
   ]
  },
  {
   "cell_type": "code",
   "execution_count": 88,
   "id": "edc93583",
   "metadata": {},
   "outputs": [
    {
     "data": {
      "text/plain": [
       "[1, 3, 5, 7, 9]"
      ]
     },
     "execution_count": 88,
     "metadata": {},
     "output_type": "execute_result"
    }
   ],
   "source": [
    "list(filter(lambda x: x%2==1, [1,2,3,4,5,6,7,8,9,10]))"
   ]
  },
  {
   "cell_type": "code",
   "execution_count": 90,
   "id": "e9fb2a46",
   "metadata": {},
   "outputs": [
    {
     "data": {
      "text/plain": [
       "[7, 9]"
      ]
     },
     "execution_count": 90,
     "metadata": {},
     "output_type": "execute_result"
    }
   ],
   "source": [
    "list(filter(lambda x: x>5 and x%2==1, [1,2,3,4,5,6,7,8,9,10]))"
   ]
  },
  {
   "cell_type": "markdown",
   "id": "f89a0a5b",
   "metadata": {},
   "source": [
    "# reduce"
   ]
  },
  {
   "cell_type": "code",
   "execution_count": 91,
   "id": "3010f409",
   "metadata": {},
   "outputs": [
    {
     "data": {
      "text/plain": [
       "3628800"
      ]
     },
     "execution_count": 91,
     "metadata": {},
     "output_type": "execute_result"
    }
   ],
   "source": [
    "from functools import reduce\n",
    "\n",
    "reduce(lambda x,y: x*y , [1,2,3,4,5,6,7,8,9,10])"
   ]
  },
  {
   "cell_type": "code",
   "execution_count": 92,
   "id": "2d2113fc",
   "metadata": {},
   "outputs": [
    {
     "data": {
      "text/plain": [
       "120"
      ]
     },
     "execution_count": 92,
     "metadata": {},
     "output_type": "execute_result"
    }
   ],
   "source": [
    "reduce(lambda x,y: x*y , [1,2,3,4,5])"
   ]
  },
  {
   "cell_type": "markdown",
   "id": "46230fe8",
   "metadata": {},
   "source": [
    "# definition vs generator"
   ]
  },
  {
   "cell_type": "code",
   "execution_count": 96,
   "id": "c627aba9",
   "metadata": {
    "scrolled": true
   },
   "outputs": [
    {
     "name": "stdout",
     "output_type": "stream",
     "text": [
      "Memory (Before):[304.24609375] MB\n",
      "Memory (After):[36.08203125] MB\n",
      "Took 0.03125 Seconds\n"
     ]
    }
   ],
   "source": [
    "\n",
    "import memory_profiler as mem_profile\n",
    "import random\n",
    "from time import process_time\n",
    "\n",
    "names=['Jhon','David','Bala','Rajesh','Siva','Priya','Malini','Tharani']\n",
    "majors=['Math','CompSci','Mech','Civil','Physics','Arts','Business']\n",
    "\n",
    "print('Memory (Before):' + str(mem_profile.memory_usage()) + ' MB')\n",
    "def people_list(num_people):\n",
    "    result=[]\n",
    "    for i in range(num_people):\n",
    "        person={\n",
    "            'id':i,\n",
    "            'name':random.choice(names),\n",
    "            'major':random.choice(majors)\n",
    "        }\n",
    "        result.append(person)\n",
    "    return result\n",
    "\n",
    "\n",
    "def people_generator(num_people):\n",
    "    for i in range(num_people):\n",
    "        person={\n",
    "            'id':i,\n",
    "            'name':random.choice(names),\n",
    "            'major':random.choice(majors)\n",
    "        }\n",
    "        yield person\n",
    "        \n",
    "start=process_time()\n",
    "course_details=people_generator(1000000)\n",
    "end=process_time()\n",
    "\n",
    "print('Memory (After):' + str(mem_profile.memory_usage()) + ' MB')\n",
    "print(f\"Took {end-start} Seconds\")"
   ]
  },
  {
   "cell_type": "code",
   "execution_count": null,
   "id": "acdc536c",
   "metadata": {},
   "outputs": [],
   "source": []
  }
 ],
 "metadata": {
  "kernelspec": {
   "display_name": "Python 3 (ipykernel)",
   "language": "python",
   "name": "python3"
  },
  "language_info": {
   "codemirror_mode": {
    "name": "ipython",
    "version": 3
   },
   "file_extension": ".py",
   "mimetype": "text/x-python",
   "name": "python",
   "nbconvert_exporter": "python",
   "pygments_lexer": "ipython3",
   "version": "3.8.10"
  }
 },
 "nbformat": 4,
 "nbformat_minor": 5
}
