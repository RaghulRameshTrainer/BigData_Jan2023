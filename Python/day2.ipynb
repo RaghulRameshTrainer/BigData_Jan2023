{
 "cells": [
  {
   "cell_type": "markdown",
   "id": "02582220",
   "metadata": {},
   "source": [
    "# set"
   ]
  },
  {
   "cell_type": "code",
   "execution_count": 1,
   "id": "959bc1d9",
   "metadata": {},
   "outputs": [],
   "source": [
    "nums={1,2,4,6,3,1,2,3,5,10,7,6,8,9,11}"
   ]
  },
  {
   "cell_type": "code",
   "execution_count": 2,
   "id": "bdf6f81f",
   "metadata": {},
   "outputs": [
    {
     "data": {
      "text/plain": [
       "set"
      ]
     },
     "execution_count": 2,
     "metadata": {},
     "output_type": "execute_result"
    }
   ],
   "source": [
    "type(nums)"
   ]
  },
  {
   "cell_type": "code",
   "execution_count": 3,
   "id": "b2b7aa41",
   "metadata": {},
   "outputs": [
    {
     "data": {
      "text/plain": [
       "{1, 2, 3, 4, 5, 6, 7, 8, 9, 10, 11}"
      ]
     },
     "execution_count": 3,
     "metadata": {},
     "output_type": "execute_result"
    }
   ],
   "source": [
    "nums"
   ]
  },
  {
   "cell_type": "code",
   "execution_count": 4,
   "id": "a505d26b",
   "metadata": {},
   "outputs": [],
   "source": [
    "nums.add(5.5)"
   ]
  },
  {
   "cell_type": "code",
   "execution_count": 5,
   "id": "df40c72c",
   "metadata": {},
   "outputs": [
    {
     "data": {
      "text/plain": [
       "{1, 2, 3, 4, 5, 5.5, 6, 7, 8, 9, 10, 11}"
      ]
     },
     "execution_count": 5,
     "metadata": {},
     "output_type": "execute_result"
    }
   ],
   "source": [
    "nums"
   ]
  },
  {
   "cell_type": "code",
   "execution_count": 6,
   "id": "a65d261f",
   "metadata": {},
   "outputs": [],
   "source": [
    "odds={1,3,5,7,9}\n",
    "even={2,4,6,8,10}\n",
    "prime={1,2,3,5,7}\n",
    "composites={1,2,3,4,5,7,8,9}"
   ]
  },
  {
   "cell_type": "code",
   "execution_count": 7,
   "id": "8b39a488",
   "metadata": {},
   "outputs": [
    {
     "data": {
      "text/plain": [
       "{1, 2, 3, 4, 5, 6, 7, 8, 9, 10}"
      ]
     },
     "execution_count": 7,
     "metadata": {},
     "output_type": "execute_result"
    }
   ],
   "source": [
    "odds.union(even)"
   ]
  },
  {
   "cell_type": "code",
   "execution_count": 8,
   "id": "7abb6e76",
   "metadata": {},
   "outputs": [
    {
     "data": {
      "text/plain": [
       "{1, 2, 3, 4, 5, 6, 7, 8, 9, 10}"
      ]
     },
     "execution_count": 8,
     "metadata": {},
     "output_type": "execute_result"
    }
   ],
   "source": [
    "even.union(odds)"
   ]
  },
  {
   "cell_type": "code",
   "execution_count": 9,
   "id": "315563e1",
   "metadata": {},
   "outputs": [
    {
     "data": {
      "text/plain": [
       "set()"
      ]
     },
     "execution_count": 9,
     "metadata": {},
     "output_type": "execute_result"
    }
   ],
   "source": [
    "odds.intersection(even)"
   ]
  },
  {
   "cell_type": "code",
   "execution_count": 10,
   "id": "2080a2ba",
   "metadata": {},
   "outputs": [
    {
     "data": {
      "text/plain": [
       "{1, 3, 5, 7, 9}"
      ]
     },
     "execution_count": 10,
     "metadata": {},
     "output_type": "execute_result"
    }
   ],
   "source": [
    "odds.intersection(composites)"
   ]
  },
  {
   "cell_type": "code",
   "execution_count": 12,
   "id": "f22f5b39",
   "metadata": {},
   "outputs": [
    {
     "data": {
      "text/plain": [
       "{2, 4, 8}"
      ]
     },
     "execution_count": 12,
     "metadata": {},
     "output_type": "execute_result"
    }
   ],
   "source": [
    "composites.difference(odds)"
   ]
  },
  {
   "cell_type": "code",
   "execution_count": 13,
   "id": "cb76b5dd",
   "metadata": {},
   "outputs": [
    {
     "data": {
      "text/plain": [
       "{6, 10}"
      ]
     },
     "execution_count": 13,
     "metadata": {},
     "output_type": "execute_result"
    }
   ],
   "source": [
    "even.difference(composites)"
   ]
  },
  {
   "cell_type": "code",
   "execution_count": 14,
   "id": "100526ce",
   "metadata": {},
   "outputs": [
    {
     "data": {
      "text/plain": [
       "{1, 3, 5, 7, 9}"
      ]
     },
     "execution_count": 14,
     "metadata": {},
     "output_type": "execute_result"
    }
   ],
   "source": [
    "composites.difference(even)"
   ]
  },
  {
   "cell_type": "code",
   "execution_count": 15,
   "id": "68fec7dd",
   "metadata": {},
   "outputs": [
    {
     "data": {
      "text/plain": [
       "{2, 4, 8}"
      ]
     },
     "execution_count": 15,
     "metadata": {},
     "output_type": "execute_result"
    }
   ],
   "source": [
    "even.intersection(composites)"
   ]
  },
  {
   "cell_type": "code",
   "execution_count": 16,
   "id": "33731a36",
   "metadata": {},
   "outputs": [
    {
     "data": {
      "text/plain": [
       "{1, 3, 5, 6, 7, 9, 10}"
      ]
     },
     "execution_count": 16,
     "metadata": {},
     "output_type": "execute_result"
    }
   ],
   "source": [
    "(even.difference(composites)).union(composites.difference(even))"
   ]
  },
  {
   "cell_type": "code",
   "execution_count": 17,
   "id": "38b15190",
   "metadata": {},
   "outputs": [
    {
     "data": {
      "text/plain": [
       "{1, 3, 5, 6, 7, 9, 10}"
      ]
     },
     "execution_count": 17,
     "metadata": {},
     "output_type": "execute_result"
    }
   ],
   "source": [
    "even.symmetric_difference(composites)"
   ]
  },
  {
   "cell_type": "code",
   "execution_count": 18,
   "id": "8b574b9e",
   "metadata": {},
   "outputs": [
    {
     "data": {
      "text/plain": [
       "{2, 4, 6, 8, 10}"
      ]
     },
     "execution_count": 18,
     "metadata": {},
     "output_type": "execute_result"
    }
   ],
   "source": [
    "even"
   ]
  },
  {
   "cell_type": "code",
   "execution_count": 19,
   "id": "57ab1603",
   "metadata": {},
   "outputs": [],
   "source": [
    "even.add(6)"
   ]
  },
  {
   "cell_type": "code",
   "execution_count": 20,
   "id": "13bb3fbc",
   "metadata": {},
   "outputs": [
    {
     "data": {
      "text/plain": [
       "{2, 4, 6, 8, 10}"
      ]
     },
     "execution_count": 20,
     "metadata": {},
     "output_type": "execute_result"
    }
   ],
   "source": [
    "even"
   ]
  },
  {
   "cell_type": "code",
   "execution_count": null,
   "id": "81465e84",
   "metadata": {},
   "outputs": [],
   "source": []
  },
  {
   "cell_type": "code",
   "execution_count": 22,
   "id": "be989c06",
   "metadata": {},
   "outputs": [],
   "source": [
    "employees={'Levin','Venkatesh','Krishna','Ramya','Siva','Subramani'}\n",
    "developer={'Venkatesh','Krishna','Ramesh','Abirami'}\n",
    "gym_user={'Ramesh','Venkatesh','Siva','Subramani','Ganesh'}\n",
    "\n",
    "# 1.Get the employees list who are working as a developer and using gym\n",
    "# 2.List the name who are using gym and not an employee of the company\n",
    "# 3.Which all are the employee , not a developer and not using gym facilities"
   ]
  },
  {
   "cell_type": "code",
   "execution_count": 24,
   "id": "7e904c9b",
   "metadata": {},
   "outputs": [
    {
     "data": {
      "text/plain": [
       "{'Venkatesh'}"
      ]
     },
     "execution_count": 24,
     "metadata": {},
     "output_type": "execute_result"
    }
   ],
   "source": [
    "employees.intersection(developer.intersection(gym_user))"
   ]
  },
  {
   "cell_type": "code",
   "execution_count": 25,
   "id": "c6a92bc1",
   "metadata": {},
   "outputs": [
    {
     "data": {
      "text/plain": [
       "{'Ganesh', 'Ramesh'}"
      ]
     },
     "execution_count": 25,
     "metadata": {},
     "output_type": "execute_result"
    }
   ],
   "source": [
    "gym_user.difference(employees)"
   ]
  },
  {
   "cell_type": "code",
   "execution_count": 27,
   "id": "192fcf95",
   "metadata": {},
   "outputs": [
    {
     "data": {
      "text/plain": [
       "{'Levin', 'Ramya'}"
      ]
     },
     "execution_count": 27,
     "metadata": {},
     "output_type": "execute_result"
    }
   ],
   "source": [
    "employees.difference(developer.union(gym_user))"
   ]
  },
  {
   "cell_type": "markdown",
   "id": "04ed8652",
   "metadata": {},
   "source": [
    "# Definitions"
   ]
  },
  {
   "cell_type": "code",
   "execution_count": 28,
   "id": "d75c6993",
   "metadata": {},
   "outputs": [],
   "source": [
    "def add_nums(x,y):\n",
    "    return x+y"
   ]
  },
  {
   "cell_type": "code",
   "execution_count": 29,
   "id": "2b3d55ea",
   "metadata": {},
   "outputs": [
    {
     "data": {
      "text/plain": [
       "11"
      ]
     },
     "execution_count": 29,
     "metadata": {},
     "output_type": "execute_result"
    }
   ],
   "source": [
    "add_nums(5,6)"
   ]
  },
  {
   "cell_type": "code",
   "execution_count": 30,
   "id": "629c9de1",
   "metadata": {},
   "outputs": [
    {
     "data": {
      "text/plain": [
       "30"
      ]
     },
     "execution_count": 30,
     "metadata": {},
     "output_type": "execute_result"
    }
   ],
   "source": [
    "add_nums(10,20)"
   ]
  },
  {
   "cell_type": "code",
   "execution_count": 31,
   "id": "e529d8a2",
   "metadata": {},
   "outputs": [
    {
     "ename": "TypeError",
     "evalue": "add_nums() takes 2 positional arguments but 3 were given",
     "output_type": "error",
     "traceback": [
      "\u001b[1;31m---------------------------------------------------------------------------\u001b[0m",
      "\u001b[1;31mTypeError\u001b[0m                                 Traceback (most recent call last)",
      "Cell \u001b[1;32mIn [31], line 1\u001b[0m\n\u001b[1;32m----> 1\u001b[0m \u001b[43madd_nums\u001b[49m\u001b[43m(\u001b[49m\u001b[38;5;241;43m10\u001b[39;49m\u001b[43m,\u001b[49m\u001b[38;5;241;43m20\u001b[39;49m\u001b[43m,\u001b[49m\u001b[38;5;241;43m30\u001b[39;49m\u001b[43m)\u001b[49m\n",
      "\u001b[1;31mTypeError\u001b[0m: add_nums() takes 2 positional arguments but 3 were given"
     ]
    }
   ],
   "source": [
    "add_nums(10,20,30)"
   ]
  },
  {
   "cell_type": "code",
   "execution_count": 32,
   "id": "a691fffc",
   "metadata": {},
   "outputs": [
    {
     "ename": "TypeError",
     "evalue": "add_nums() missing 1 required positional argument: 'y'",
     "output_type": "error",
     "traceback": [
      "\u001b[1;31m---------------------------------------------------------------------------\u001b[0m",
      "\u001b[1;31mTypeError\u001b[0m                                 Traceback (most recent call last)",
      "Cell \u001b[1;32mIn [32], line 1\u001b[0m\n\u001b[1;32m----> 1\u001b[0m \u001b[43madd_nums\u001b[49m\u001b[43m(\u001b[49m\u001b[38;5;241;43m10\u001b[39;49m\u001b[43m)\u001b[49m\n",
      "\u001b[1;31mTypeError\u001b[0m: add_nums() missing 1 required positional argument: 'y'"
     ]
    }
   ],
   "source": [
    "add_nums(10)"
   ]
  },
  {
   "cell_type": "code",
   "execution_count": 33,
   "id": "9a3f9e7b",
   "metadata": {},
   "outputs": [
    {
     "ename": "TypeError",
     "evalue": "add_nums() missing 2 required positional arguments: 'x' and 'y'",
     "output_type": "error",
     "traceback": [
      "\u001b[1;31m---------------------------------------------------------------------------\u001b[0m",
      "\u001b[1;31mTypeError\u001b[0m                                 Traceback (most recent call last)",
      "Cell \u001b[1;32mIn [33], line 1\u001b[0m\n\u001b[1;32m----> 1\u001b[0m \u001b[43madd_nums\u001b[49m\u001b[43m(\u001b[49m\u001b[43m)\u001b[49m\n",
      "\u001b[1;31mTypeError\u001b[0m: add_nums() missing 2 required positional arguments: 'x' and 'y'"
     ]
    }
   ],
   "source": [
    "add_nums()"
   ]
  },
  {
   "cell_type": "code",
   "execution_count": 34,
   "id": "47f2fa28",
   "metadata": {},
   "outputs": [],
   "source": [
    "def add_nums(x,y=0):   # Default variable\n",
    "    return x+y"
   ]
  },
  {
   "cell_type": "code",
   "execution_count": 35,
   "id": "f60164bb",
   "metadata": {},
   "outputs": [
    {
     "data": {
      "text/plain": [
       "30"
      ]
     },
     "execution_count": 35,
     "metadata": {},
     "output_type": "execute_result"
    }
   ],
   "source": [
    "add_nums(10,20)"
   ]
  },
  {
   "cell_type": "code",
   "execution_count": 36,
   "id": "8aa51849",
   "metadata": {},
   "outputs": [
    {
     "data": {
      "text/plain": [
       "10"
      ]
     },
     "execution_count": 36,
     "metadata": {},
     "output_type": "execute_result"
    }
   ],
   "source": [
    "add_nums(10)"
   ]
  },
  {
   "cell_type": "code",
   "execution_count": 38,
   "id": "dfc1a05c",
   "metadata": {},
   "outputs": [
    {
     "ename": "TypeError",
     "evalue": "add_nums() takes from 1 to 2 positional arguments but 3 were given",
     "output_type": "error",
     "traceback": [
      "\u001b[1;31m---------------------------------------------------------------------------\u001b[0m",
      "\u001b[1;31mTypeError\u001b[0m                                 Traceback (most recent call last)",
      "Cell \u001b[1;32mIn [38], line 1\u001b[0m\n\u001b[1;32m----> 1\u001b[0m \u001b[43madd_nums\u001b[49m\u001b[43m(\u001b[49m\u001b[38;5;241;43m10\u001b[39;49m\u001b[43m,\u001b[49m\u001b[38;5;241;43m20\u001b[39;49m\u001b[43m,\u001b[49m\u001b[38;5;241;43m30\u001b[39;49m\u001b[43m)\u001b[49m\n",
      "\u001b[1;31mTypeError\u001b[0m: add_nums() takes from 1 to 2 positional arguments but 3 were given"
     ]
    }
   ],
   "source": [
    "add_nums(10,20,30)"
   ]
  },
  {
   "cell_type": "code",
   "execution_count": 39,
   "id": "f056142e",
   "metadata": {},
   "outputs": [],
   "source": [
    "def add_nums(x,y):    #Documentory string\n",
    "    ''' The add_nums is for adding 2 number, Please call the function with two number to get some of those'''\n",
    "    return x+y"
   ]
  },
  {
   "cell_type": "code",
   "execution_count": 43,
   "id": "fdd1fca8",
   "metadata": {},
   "outputs": [
    {
     "data": {
      "text/plain": [
       "' The add_nums is for adding 2 number, Please call the function with two number to get some of those'"
      ]
     },
     "execution_count": 43,
     "metadata": {},
     "output_type": "execute_result"
    }
   ],
   "source": [
    "add_nums.__doc__"
   ]
  },
  {
   "cell_type": "code",
   "execution_count": 44,
   "id": "007e67ea",
   "metadata": {},
   "outputs": [
    {
     "data": {
      "text/plain": [
       "110"
      ]
     },
     "execution_count": 44,
     "metadata": {},
     "output_type": "execute_result"
    }
   ],
   "source": [
    "add_nums(50,60)"
   ]
  },
  {
   "cell_type": "code",
   "execution_count": 45,
   "id": "e9373387",
   "metadata": {},
   "outputs": [],
   "source": [
    "def add_nums(x,*y):    # *args -> takes any number of arguments\n",
    "    return x+sum(y)"
   ]
  },
  {
   "cell_type": "code",
   "execution_count": 47,
   "id": "09269ad9",
   "metadata": {},
   "outputs": [
    {
     "data": {
      "text/plain": [
       "10"
      ]
     },
     "execution_count": 47,
     "metadata": {},
     "output_type": "execute_result"
    }
   ],
   "source": [
    "add_nums(10)"
   ]
  },
  {
   "cell_type": "code",
   "execution_count": 48,
   "id": "82ee8b08",
   "metadata": {},
   "outputs": [
    {
     "data": {
      "text/plain": [
       "30"
      ]
     },
     "execution_count": 48,
     "metadata": {},
     "output_type": "execute_result"
    }
   ],
   "source": [
    "add_nums(10,20)"
   ]
  },
  {
   "cell_type": "code",
   "execution_count": 49,
   "id": "3a747b79",
   "metadata": {},
   "outputs": [
    {
     "data": {
      "text/plain": [
       "150"
      ]
     },
     "execution_count": 49,
     "metadata": {},
     "output_type": "execute_result"
    }
   ],
   "source": [
    "add_nums(10,20,30,40,50)"
   ]
  },
  {
   "cell_type": "code",
   "execution_count": 50,
   "id": "277f8349",
   "metadata": {},
   "outputs": [
    {
     "data": {
      "text/plain": [
       "100"
      ]
     },
     "execution_count": 50,
     "metadata": {},
     "output_type": "execute_result"
    }
   ],
   "source": [
    "add_nums(10,20,30,40)"
   ]
  },
  {
   "cell_type": "code",
   "execution_count": 52,
   "id": "e50a4e87",
   "metadata": {},
   "outputs": [],
   "source": [
    "def add_nums(*x):    # *args -> takes any number of arguments\n",
    "    return sum(x)"
   ]
  },
  {
   "cell_type": "code",
   "execution_count": 53,
   "id": "fb6cfa7a",
   "metadata": {},
   "outputs": [
    {
     "data": {
      "text/plain": [
       "150"
      ]
     },
     "execution_count": 53,
     "metadata": {},
     "output_type": "execute_result"
    }
   ],
   "source": [
    "add_nums(10,20,30,40,50)"
   ]
  },
  {
   "cell_type": "code",
   "execution_count": 54,
   "id": "088b970a",
   "metadata": {},
   "outputs": [
    {
     "data": {
      "text/plain": [
       "100"
      ]
     },
     "execution_count": 54,
     "metadata": {},
     "output_type": "execute_result"
    }
   ],
   "source": [
    "add_nums(10,20,30,40)"
   ]
  },
  {
   "cell_type": "code",
   "execution_count": null,
   "id": "86f234f0",
   "metadata": {},
   "outputs": [],
   "source": []
  }
 ],
 "metadata": {
  "kernelspec": {
   "display_name": "Python 3 (ipykernel)",
   "language": "python",
   "name": "python3"
  },
  "language_info": {
   "codemirror_mode": {
    "name": "ipython",
    "version": 3
   },
   "file_extension": ".py",
   "mimetype": "text/x-python",
   "name": "python",
   "nbconvert_exporter": "python",
   "pygments_lexer": "ipython3",
   "version": "3.8.10"
  }
 },
 "nbformat": 4,
 "nbformat_minor": 5
}
